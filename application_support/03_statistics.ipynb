{
 "cells": [
  {
   "cell_type": "code",
   "execution_count": 1,
   "metadata": {},
   "outputs": [],
   "source": [
    "def update_stats(conn, context, type, value, timeout=5):\n",
    "    # Set up the destination statistic key.\n",
    "    destination = f'stats:{context}:{type}'\n",
    "    start_key = destination + ':start'\n",
    "    pipe = conn.pipeline(True)\n",
    "    \n",
    "    end = time.time() + timeout\n",
    "    while time.time() < end:\n",
    "        try:\n",
    "            pipe.watch(start_key)\n",
    "            now = datetime.utcnow().timetuple()\n",
    "            hour_start = datetime(*now[:4]).isoformat()\n",
    "            existing = pipe.get(start_key)\n",
    "            pipe.multi()\n",
    "            \n",
    "            if existing and existing < hour_start:\n",
    "                pipe.rename(destination, destination + ':last')\n",
    "                pipe.rename(start_key, destination + ':pstart')\n",
    "                pipe.set(start_key, hour_start)\n",
    "            \n",
    "            # Add the values to the temporary keys.\n",
    "            tkey1 = str(uuid.uuid4())\n",
    "            tkey2 = str(uuid.uuid4())\n",
    "            pipe.zadd(tkey1, 'min', value)\n",
    "            pipe.zadd(tkey2, 'max', value)\n",
    "            \n",
    "            # Union the temporary keys with the destination stats key, using\n",
    "            # the appropriate min/max aggregate.\n",
    "            pipe.zunionstore(destination, [destination, tkey1], aggregate='max')\n",
    "            pipe.zunionstore(destination, [destination, tkey2], aggregate='min')\n",
    "            \n",
    "            # Clean up the temporary keys.\n",
    "            pipe.delete(tkey1, tkey2)\n",
    "            \n",
    "            # Update the count, sum and sum of squares members of the ZSET.\n",
    "            pipe.zincrby(destination, 'count')\n",
    "            pipe.zincrby(destination, 'sum', value)\n",
    "            pipe.zincrby(destination, 'sumsq', value * value)\n",
    "            return pipe.execute()[-3:]\n",
    "        except redis.exceptions.WatchError:\n",
    "            # If the hour just turned over and the stats have already been shuffled over, try again.\n",
    "            continue"
   ]
  },
  {
   "cell_type": "code",
   "execution_count": 2,
   "metadata": {},
   "outputs": [],
   "source": [
    "def get_stats(conn, context, type):\n",
    "    key = f'stats:{context}:{type}'\n",
    "    data = dict(conn.zrange(key, 0, -1, withscores=True))\n",
    "    data['average'] = data['sum'] / data['count']\n",
    "    numerator = data['sumsq'] - data['sum'] ** 2 / data['count']\n",
    "    data['stdev'] = (numerator / (data['count'] - 1 or 1)) ** .5\n",
    "    return data"
   ]
  },
  {
   "cell_type": "code",
   "execution_count": 3,
   "metadata": {},
   "outputs": [],
   "source": [
    "## Logging time"
   ]
  },
  {
   "cell_type": "code",
   "execution_count": 6,
   "metadata": {},
   "outputs": [],
   "source": [
    "import contextlib\n",
    "\n",
    "@contextlib.contextmanager\n",
    "def access_time(conn, context):\n",
    "    start = time.time()\n",
    "    yield\n",
    "    \n",
    "    delta = time.time() - start\n",
    "    stats = update_stats(conn, context, 'AccessTime', delta)\n",
    "    average = stats[1] /stats[0]\n",
    "    \n",
    "    pipe = conn.pipeline(True)\n",
    "    pipe.zadd('slowest:AccessTime', context, average)\n",
    "    pipe.zremrangebyrank('slowest:AccessTime', 0, -101)\n",
    "    pipe.execute()"
   ]
  },
  {
   "cell_type": "code",
   "execution_count": null,
   "metadata": {},
   "outputs": [],
   "source": [
    "# Usage.\n",
    "def process_view(conn, callback):\n",
    "    with access_time(conn, request.path):\n",
    "        return callback()"
   ]
  }
 ],
 "metadata": {
  "kernelspec": {
   "display_name": "Python 3",
   "language": "python",
   "name": "python3"
  },
  "language_info": {
   "codemirror_mode": {
    "name": "ipython",
    "version": 3
   },
   "file_extension": ".py",
   "mimetype": "text/x-python",
   "name": "python",
   "nbconvert_exporter": "python",
   "pygments_lexer": "ipython3",
   "version": "3.7.4"
  }
 },
 "nbformat": 4,
 "nbformat_minor": 2
}
