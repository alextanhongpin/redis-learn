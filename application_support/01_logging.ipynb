{
 "cells": [
  {
   "cell_type": "markdown",
   "metadata": {},
   "source": [
    "## Recent Logs\n",
    "\n",
    "One common way to use Redis to store logs is to store the recent 100 logs in a LIST."
   ]
  },
  {
   "cell_type": "code",
   "execution_count": 11,
   "metadata": {},
   "outputs": [],
   "source": [
    "import logging\n",
    "\n",
    "SEVERITY = {\n",
    "    logging.DEBUG: 'debug',\n",
    "    logging.INFO: 'info',\n",
    "    logging.WARNING: 'warning',\n",
    "    logging.ERROR: 'error',\n",
    "    logging.CRITICAL: 'critical'\n",
    "}"
   ]
  },
  {
   "cell_type": "code",
   "execution_count": 9,
   "metadata": {},
   "outputs": [
    {
     "data": {
      "text/plain": [
       "{10: 'debug',\n",
       " 20: 'info',\n",
       " 30: 'warning',\n",
       " 40: 'error',\n",
       " 50: 'critical',\n",
       " 'debug': 'debug',\n",
       " 'info': 'info',\n",
       " 'warning': 'warning',\n",
       " 'error': 'error',\n",
       " 'critical': 'critical'}"
      ]
     },
     "execution_count": 9,
     "metadata": {},
     "output_type": "execute_result"
    }
   ],
   "source": [
    "SEVERITY.update((name, name) for name in list(SEVERITY.values()))\n",
    "SEVERITY"
   ]
  },
  {
   "cell_type": "code",
   "execution_count": 10,
   "metadata": {},
   "outputs": [],
   "source": [
    "def log_recent(conn, name, message, severity=logging.INFO, pipe=None):\n",
    "    # Turn logging level into simple string.\n",
    "    severity = str(SEVERITY.get(severity, severity)).lower()\n",
    "    \n",
    "    # Create a key that messages will be written to.\n",
    "    destination = f'recent:{name}:{severity}'\n",
    "        \n",
    "    # Add the current time so that we know when the message was sent.\n",
    "    message = time.asctime() + ' ' + message\n",
    "    \n",
    "    # Set up a pipeline so we only need one round trip.\n",
    "    pipe = pipe or conn.pipeline()\n",
    "    \n",
    "    # Add the message to the beginning of the list.\n",
    "    pipe.lpush(destination, message)\n",
    "    \n",
    "    # Trim the log list to only include the most recent 100 messages.\n",
    "    pipe.ltrim(destination, 0, 99)\n",
    "    pipe.execute()"
   ]
  },
  {
   "cell_type": "markdown",
   "metadata": {},
   "source": [
    "## Common Logs\n",
    "\n",
    "Recent logs does not provide information on how often a particular logs appear, which can be useful to detect issues early. \n",
    "\n",
    "To keep track of commonly occuring logs, we can use `ZSET` with the score being the frequency of occurances of the logs. To keep track of the recent common logs, we rotate the records hourly and keep the previous hour's worth of common logs."
   ]
  },
  {
   "cell_type": "code",
   "execution_count": 31,
   "metadata": {},
   "outputs": [],
   "source": [
    "from datetime import datetime\n",
    "\n",
    "def log_common(conn, name, message, severity=logging.INFO, timeout=5):\n",
    "    # Handle the logging level.\n",
    "    severity = str(SEVERITY.get(severity, severity)).lower()\n",
    "    \n",
    "    # Set up the destination key for keeping recent logs.\n",
    "    destination = f'common:{name}:{severity}'\n",
    "        \n",
    "    # Keep a record of the start of the hour for this set of messages.\n",
    "    start_key = destination + ':start'\n",
    "    \n",
    "    pipe = conn.pipeline()\n",
    "    \n",
    "    end = time.time() + timeout\n",
    "    while time.time() < end:\n",
    "        try:\n",
    "            # We will watch the start of the hour key for changes that only happens\n",
    "            # at the beginning of the hour.\n",
    "            pipe.watch(start_key)\n",
    "            now = datetime.utcnow().timetuple()\n",
    "            hour_start = datetime(*now[:4]).isoformat()\n",
    "            \n",
    "            existing = pipe.get(start_key)\n",
    "            pipe.multi()\n",
    "            # If the current list of common logs is for a previous hour...\n",
    "            if existing and existing < hour_start:\n",
    "                # Move the old common log information to the archive.\n",
    "                pipe.rename(destination, destination + ':last')\n",
    "                pipe.rename(start_key, destination + ':pstart')\n",
    "                \n",
    "                # Update the staart of the current hour for the common logs.\n",
    "                pipe.set(start_key, hour_start)\n",
    "            \n",
    "            # Increment the common counter.\n",
    "            pipe.zincrby(destination, message)\n",
    "            \n",
    "            # Call the log_recent function to record this.\n",
    "            log_recent(pipe, name, message, severity, pipe)\n",
    "            return\n",
    "        except redis.exceptions.WatchError:\n",
    "            # If we get error from someone else archiving, try again.\n",
    "            continue"
   ]
  }
 ],
 "metadata": {
  "kernelspec": {
   "display_name": "Python 3",
   "language": "python",
   "name": "python3"
  },
  "language_info": {
   "codemirror_mode": {
    "name": "ipython",
    "version": 3
   },
   "file_extension": ".py",
   "mimetype": "text/x-python",
   "name": "python",
   "nbconvert_exporter": "python",
   "pygments_lexer": "ipython3",
   "version": "3.7.4"
  }
 },
 "nbformat": 4,
 "nbformat_minor": 2
}
