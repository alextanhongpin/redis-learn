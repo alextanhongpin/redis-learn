{
 "cells": [
  {
   "cell_type": "code",
   "execution_count": 1,
   "metadata": {},
   "outputs": [],
   "source": [
    "# https://dev.maxmind.com/geoip/geoip2/geolite2/\n",
    "def ip_to_score(ip_address):\n",
    "    score = 0\n",
    "    for v in ip_address.split('.'):\n",
    "        score = score * 256 + int(v, 10)\n",
    "    return score"
   ]
  },
  {
   "cell_type": "code",
   "execution_count": 3,
   "metadata": {},
   "outputs": [],
   "source": [
    "# Construct ip address mapping to city id.\n",
    "\n",
    "# Should be run with GeoLiteCity-Blocks.csv.\n",
    "def import_ips_to_redis(conn, filename):\n",
    "    csv_file = csv.reader(open(filename, 'rb'))\n",
    "    for count, row in enumerate(csv_file):\n",
    "        start_ip = row[0] if row else ''\n",
    "        if 'i' in start_ip.lower():\n",
    "            continue\n",
    "        # Convert the ip address to score if necessary.\n",
    "        if '.' in start_ip:\n",
    "            start_ip = ip_to_score(start_ip)\n",
    "        elif start_ip.isdigit():\n",
    "            start_ip = int(start_ip, 10)\n",
    "        else:\n",
    "            # Header row or malformed entry.\n",
    "            continue\n",
    "        \n",
    "        # Because many multiple IP address ranges can map to the same city id,\n",
    "        # we append the _ character followed by the number of entries.\n",
    "        # Construct the unique city id.\n",
    "        city_id = row[2] + '_' + str(count)\n",
    "        conn.zadd('ip2cityid:', city_id, start_ip)"
   ]
  },
  {
   "cell_type": "code",
   "execution_count": 4,
   "metadata": {},
   "outputs": [],
   "source": [
    "# Create a HASH that maps the city id to the city information.\n",
    "\n",
    "# Should be run with the location of the GeoLiteCity-Location.csv file.\n",
    "def import_cities_to_redis(conn, filename):\n",
    "    for row in csv.reader(open(filename, 'rb')):\n",
    "        if len(row) < 4 or not row[0].isdigit():\n",
    "            continue\n",
    "        row = [i.decode('latin-1') for i in row]\n",
    "        city_id = row[0]\n",
    "        country = row[1]\n",
    "        region = row[2]\n",
    "        city = row[3]\n",
    "        conn.hset('cityid2city', city_id, json.dumps([city, region, country]))"
   ]
  },
  {
   "cell_type": "code",
   "execution_count": null,
   "metadata": {},
   "outputs": [],
   "source": [
    "def find_city_by_ip(conn, ip_address):\n",
    "    # Convert the IP address to a score for zrevrangebyscore.\n",
    "    if isinstance(ip_address, str):\n",
    "        ip_address = ip_to_score(ip_address)\n",
    "    \n",
    "    # Find the unique city id to the common city id.\n",
    "    city_id = conn.zrevrangebyscore('ip2cityid:', ip_address, 0, start=0, num=1)\n",
    "    \n",
    "    if not city_id:\n",
    "        return None\n",
    "    # Convert the unique city id to the common city id.\n",
    "    city_id = city_id[0].partition('_')[0]\n",
    "    return json.loads(conn.hget('cityid2city:', city_id))"
   ]
  }
 ],
 "metadata": {
  "kernelspec": {
   "display_name": "Python 3",
   "language": "python",
   "name": "python3"
  },
  "language_info": {
   "codemirror_mode": {
    "name": "ipython",
    "version": 3
   },
   "file_extension": ".py",
   "mimetype": "text/x-python",
   "name": "python",
   "nbconvert_exporter": "python",
   "pygments_lexer": "ipython3",
   "version": "3.7.4"
  }
 },
 "nbformat": 4,
 "nbformat_minor": 2
}
