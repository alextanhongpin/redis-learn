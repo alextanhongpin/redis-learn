{
 "cells": [
  {
   "cell_type": "markdown",
   "metadata": {},
   "source": [
    "# Using Redis to store maintenance state"
   ]
  },
  {
   "cell_type": "code",
   "execution_count": 2,
   "metadata": {},
   "outputs": [],
   "source": [
    "LAST_CHECKED = None\n",
    "IS_UNDER_MAINTENANCE = False\n",
    "\n",
    "def is_under_maintenance(conn):\n",
    "    global LAST_CHECKED, IS_UNDER_MAINTENANCE\n",
    "    if LAST_CHECKED < time.time() - 1:\n",
    "        LAST_CHECKED = time.time()\n",
    "        IS_UNDER_MAINTENANCE = bool(conn.get('is-under-maintenance'))\n",
    "    return IS_UNDER_MAINTENANCE"
   ]
  },
  {
   "cell_type": "markdown",
   "metadata": {},
   "source": [
    "# Storing configuration in Redis"
   ]
  },
  {
   "cell_type": "code",
   "execution_count": 3,
   "metadata": {},
   "outputs": [],
   "source": [
    "def set_config(conn, type, component, config):\n",
    "    conn.set(f'config:{type}:{component}', json.dumps(config))"
   ]
  },
  {
   "cell_type": "code",
   "execution_count": 4,
   "metadata": {},
   "outputs": [],
   "source": [
    "CONFIGS = {}\n",
    "CHECKED = {}\n",
    "\n",
    "def get_config(conn, type, component, wait=1):\n",
    "    key = f'config:{type}:{component}'\n",
    "        \n",
    "    # Check to see if we should update the configuration information\n",
    "    # about the component.\n",
    "    if CHECKED.get(key) < time.time() - wait:\n",
    "        # We can, so update the time we checked this connection.\n",
    "        CHECKED[key] = time.time()\n",
    "        \n",
    "        # Fetch the configuration for this component.\n",
    "        config = json.loads(conn.get(key) or '{}')\n",
    "        \n",
    "        # Convert potentially Unicode keyword arguments into string keyword\n",
    "        # arguments.\n",
    "        config = dict((str(k), config[k]) for k in config)\n",
    "        \n",
    "        # Get the old configuration for this component.\n",
    "        old_configs = CONFIGS.get(key)\n",
    "        \n",
    "        # Update the configuration if they are different.\n",
    "        if config != old_config:\n",
    "            CONFIGS[key] = config\n",
    "    return CONFIGS.get(key)"
   ]
  },
  {
   "cell_type": "markdown",
   "metadata": {},
   "source": [
    "# Automatic redis configuration management"
   ]
  },
  {
   "cell_type": "code",
   "execution_count": 5,
   "metadata": {},
   "outputs": [],
   "source": [
    "REDIS_CONNECTIONS = {}\n",
    "\n",
    "def redis_connection(component, wait=1):\n",
    "    # Cache the key.\n",
    "    key = f'config:redis:{component}'\n",
    "    \n",
    "    # Our wrapper takes a function and wraps it with another function.\n",
    "    def wrapper(function):\n",
    "        # Copy some useful metadata from the original function to the configuration handler.\n",
    "        @functools.wrap(function)\n",
    "        def call(*args, **kwargs):\n",
    "            # Fetch the old configuration, if any.\n",
    "            old_config = CONFIGS.get(key, object())\n",
    "            # Get the new configuration, if any.\n",
    "            _config = get_config(config_connection, 'redis', component, wait)\n",
    "            \n",
    "            config = {}\n",
    "            \n",
    "            # Make the configuration usable for creating a Redis connection.\n",
    "            for k, v in _config.iteritems():\n",
    "                config[k.encode('utf-8')] = v\n",
    "            \n",
    "            # If old and new configurations don't match, create a new connectin.\n",
    "            if config != old_config:\n",
    "                REDIS_CONNECTIONS[key] = redis.Redis(**config)\n",
    "            return function(REDIS_CONNECTIONS.get(key), *args, **kwargs)\n",
    "\n",
    "        # Return the fully wrapped function.\n",
    "        return call\n",
    "\n",
    "    # Return a function that can wrap our Redis function.\n",
    "    return wrapper"
   ]
  },
  {
   "cell_type": "code",
   "execution_count": null,
   "metadata": {},
   "outputs": [],
   "source": [
    "@redis_connection('logs')\n",
    "def log_recent(conn, app, message):\n",
    "    'the old log_recent() code'\n",
    "\n",
    "log_recent('main', 'user 215 logged in')"
   ]
  }
 ],
 "metadata": {
  "kernelspec": {
   "display_name": "Python 3",
   "language": "python",
   "name": "python3"
  },
  "language_info": {
   "codemirror_mode": {
    "name": "ipython",
    "version": 3
   },
   "file_extension": ".py",
   "mimetype": "text/x-python",
   "name": "python",
   "nbconvert_exporter": "python",
   "pygments_lexer": "ipython3",
   "version": "3.7.4"
  }
 },
 "nbformat": 4,
 "nbformat_minor": 2
}
