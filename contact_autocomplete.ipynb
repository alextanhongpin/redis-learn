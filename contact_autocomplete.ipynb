{
 "cells": [
  {
   "cell_type": "code",
   "execution_count": 88,
   "metadata": {},
   "outputs": [],
   "source": [
    "import redis\n",
    "import unittest"
   ]
  },
  {
   "cell_type": "code",
   "execution_count": 89,
   "metadata": {},
   "outputs": [],
   "source": [
    "def add_update_contact(conn, user, contact):\n",
    "    ac_list = f'recent:{user}'\n",
    "    \n",
    "    pipeline = conn.pipeline(True)\n",
    "    \n",
    "    # Remove the contact if it already exists, to remove duplicate.\n",
    "    pipeline.lrem(ac_list, -1, contact)\n",
    "    \n",
    "    # Add the contact to the list.\n",
    "    pipeline.lpush(ac_list, contact)\n",
    "    \n",
    "    # Keep only the first 100 contacts.\n",
    "    pipeline.ltrim(ac_list, 0, 99)\n",
    "    \n",
    "    # Pipeline returns an array of result for each step.\n",
    "    return pipeline.execute()"
   ]
  },
  {
   "cell_type": "code",
   "execution_count": 90,
   "metadata": {},
   "outputs": [],
   "source": [
    "def remove_contact(conn, user, contact):\n",
    "    conn.lrem(f'recent:{user}', -1, contact)"
   ]
  },
  {
   "cell_type": "code",
   "execution_count": 91,
   "metadata": {},
   "outputs": [],
   "source": [
    "def fetch_autocomplete_list(conn, user, prefix):\n",
    "    candidates = conn.lrange(f'recent:{user}', 0, -1)\n",
    "    matches = []\n",
    "    \n",
    "    for candidate in candidates:\n",
    "        # By default, redis will return bytestring.\n",
    "        # Set decode_responses=True or do b.decode('utf-8').\n",
    "        if candidate.lower().startswith(prefix):\n",
    "            matches.append(candidate)\n",
    "\n",
    "    return matches"
   ]
  },
  {
   "cell_type": "code",
   "execution_count": 92,
   "metadata": {},
   "outputs": [
    {
     "name": "stderr",
     "output_type": "stream",
     "text": [
      "...\n",
      "----------------------------------------------------------------------\n",
      "Ran 3 tests in 0.064s\n",
      "\n",
      "OK\n"
     ]
    }
   ],
   "source": [
    "class TestAutocompleteContact(unittest.TestCase):\n",
    "    def setUp(self):\n",
    "        self.conn = redis.Redis(password='123456', decode_responses=True)\n",
    "        \n",
    "    def tearDown(self):\n",
    "        self.conn.close()\n",
    "        \n",
    "    def clear_keys(self, user):\n",
    "        self.conn.delete(f'recent:{user}')\n",
    "\n",
    "    def test_autocomplete_contact(self):\n",
    "        self.clear_keys('john')\n",
    "\n",
    "        # Given John has Alice and Bob as a contact.\n",
    "        add_update_contact(self.conn, 'john', 'alice')\n",
    "        add_update_contact(self.conn, 'john', 'bob')\n",
    "        \n",
    "        # When John search for prefix 'a'.\n",
    "        expected = ['alice']\n",
    "        actual = fetch_autocomplete_list(self.conn, 'john', 'a')\n",
    "        \n",
    "        # Then Alice should be returned.\n",
    "        self.assertEqual(actual, expected)\n",
    "        \n",
    "    def test_remove_contact(self):\n",
    "        self.clear_keys('john')\n",
    "\n",
    "        # Given that John has Alice as a contact.\n",
    "        add_update_contact(self.conn, 'john', 'alice')\n",
    "        \n",
    "        # When John remove Alice from the contact list.\n",
    "        remove_contact(r, 'john', 'alice')\n",
    "        \n",
    "        expected = []\n",
    "        actual = fetch_autocomplete_list(self.conn, 'john', 'a')\n",
    "        \n",
    "        # When searching for prefix 'a', nothing is returned.\n",
    "        self.assertEqual(actual, expected)\n",
    "        \n",
    "    def test_search_multiple(self):\n",
    "        self.clear_keys('john')\n",
    "\n",
    "        # Given that John has multiple contacts starting with prefix 'a'.\n",
    "        add_update_contact(self.conn, 'john', 'alpha')\n",
    "        add_update_contact(self.conn, 'john', 'alice')\n",
    "        add_update_contact(self.conn, 'john', 'alex')\n",
    "        add_update_contact(self.conn, 'john', 'andrew')\n",
    "        add_update_contact(self.conn, 'john', 'bob')\n",
    "        \n",
    "        # When John search for prefix 'a'.\n",
    "        expected = ['alpha', 'alice', 'alex', 'andrew']\n",
    "        actual = fetch_autocomplete_list(self.conn, 'john', 'a')\n",
    "        \n",
    "        # Then John should get all contacts starting with 'a'.\n",
    "        self.assertListEqual(sorted(actual), sorted(expected))\n",
    "        \n",
    "        # When John search for prefix 'al'.\n",
    "        expected = ['alpha', 'alice', 'alex']\n",
    "        actual = fetch_autocomplete_list(self.conn, 'john', 'al')\n",
    "        \n",
    "        # Then John should get all contacts starting with 'al'.\n",
    "        self.assertListEqual(sorted(actual), sorted(expected))\n",
    "    \n",
    "if __name__ == '__main__':\n",
    "    unittest.main(argv=['excluded'], exit=False)"
   ]
  }
 ],
 "metadata": {
  "kernelspec": {
   "display_name": "Python 3",
   "language": "python",
   "name": "python3"
  },
  "language_info": {
   "codemirror_mode": {
    "name": "ipython",
    "version": 3
   },
   "file_extension": ".py",
   "mimetype": "text/x-python",
   "name": "python",
   "nbconvert_exporter": "python",
   "pygments_lexer": "ipython3",
   "version": "3.7.4"
  }
 },
 "nbformat": 4,
 "nbformat_minor": 2
}
