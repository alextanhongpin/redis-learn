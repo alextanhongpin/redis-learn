{
 "cells": [
  {
   "cell_type": "markdown",
   "metadata": {},
   "source": [
    "## Transactions\n",
    "\n",
    "Say we have a marketplace ZSET, where the keys are items to be sold in the format `itemid.userid` and the values are the price of the item.\n",
    "\n",
    "We have users that are stored in the HASH with the fields `name` and `funds`. Each users have a set of items that are stored in inventory SET. We want to emulate the following scenario with transactions:\n",
    "\n",
    "- Users can list their item in the marketplace. Items are removed from the inventory, and added to the marketplace.\n",
    "- Another user can purchase the item. The item is removed from the marketplace, and added to the purchaser inventory.\n",
    "- The funds from the seller increase, and the funds from the purchaser decrease."
   ]
  },
  {
   "cell_type": "code",
   "execution_count": 1,
   "metadata": {},
   "outputs": [],
   "source": [
    "def list_item(conn, itemid, sellerid, price):\n",
    "    inventory = f'inventory:{sellerid}'\n",
    "    item = f'{itemid}.{sellerid}'\n",
    "    end = time.time() + 5\n",
    "    pipe = conn.pipeline()\n",
    "    \n",
    "    while time.time() < end:\n",
    "        try:\n",
    "            # Watch for changes in user's inventory.\n",
    "            pipe.watch(inventory)\n",
    "            \n",
    "            # If the item isn't in the user's inventory, \n",
    "            # stop watching the inventory and return.\n",
    "            if not pipe.ismember(inventory, itemid):\n",
    "                pipe.unwatch()\n",
    "                return None\n",
    "            \n",
    "            # Actually list the item.\n",
    "            pipe.multi()\n",
    "            pipe.zadd('market:', item, price)\n",
    "            pipe.srem(inventory, itemid)\n",
    "            \n",
    "            # If execute returns without a WatchError being raised,\n",
    "            # then the transaction is complete and the inventory key is\n",
    "            # no longer watched.\n",
    "            pipe.execute()\n",
    "            return True\n",
    "        except redis.exceptions.WatchError:\n",
    "            # The user's inventory was changed, retry.\n",
    "            pass\n",
    "    return False"
   ]
  },
  {
   "cell_type": "code",
   "execution_count": 2,
   "metadata": {},
   "outputs": [],
   "source": [
    "# lprice = listing price.\n",
    "def purchase_item(conn, buyerid, itemid, sellerid, lprice):\n",
    "    buyer = f'users:{buyerid}'\n",
    "    seller = f'users:{sellerid}'\n",
    "    \n",
    "    item = f'{itemid}.{sellerid}'\n",
    "    inventory = f'inventory:{buyerid}'\n",
    "    end = time.time() + 10\n",
    "    pipe = conn.pipeline()\n",
    "    \n",
    "    while time.time() < end:\n",
    "        try:\n",
    "            # Watch both the changes to the market and the buyer's information.\n",
    "            pipe.watch('market:', buyer)\n",
    "            price = pipe.zscore('market:', item)\n",
    "            funds = int(pipe.hget(buyer, 'funds'))\n",
    "            \n",
    "            # Check for sold/repriced item or insufficient funds.\n",
    "            if price != lprice or price > funds:\n",
    "                pipe.unwatch()\n",
    "                return None\n",
    "            \n",
    "            # Transfer funds from buyer to seller,\n",
    "            # and transfer the item to the buyer.\n",
    "            pipe.multi()\n",
    "            pipe.hincrby(seller, 'funds', int(price))\n",
    "            pipe.hincrby(buyer, 'funds', int(-price))\n",
    "            pipe.sadd(inventory, itemid)\n",
    "            pipe.zrem('market:', item)\n",
    "            pipe.execute()\n",
    "            return True\n",
    "        except redis.exceptions.WatchError:\n",
    "            # Retry if the buyer's account or the market changed.\n",
    "            pass\n",
    "    return False"
   ]
  },
  {
   "cell_type": "code",
   "execution_count": null,
   "metadata": {},
   "outputs": [],
   "source": []
  }
 ],
 "metadata": {
  "kernelspec": {
   "display_name": "Python 3",
   "language": "python",
   "name": "python3"
  },
  "language_info": {
   "codemirror_mode": {
    "name": "ipython",
    "version": 3
   },
   "file_extension": ".py",
   "mimetype": "text/x-python",
   "name": "python",
   "nbconvert_exporter": "python",
   "pygments_lexer": "ipython3",
   "version": "3.7.4"
  }
 },
 "nbformat": 4,
 "nbformat_minor": 2
}
