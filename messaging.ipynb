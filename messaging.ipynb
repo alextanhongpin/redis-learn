{
 "cells": [
  {
   "cell_type": "code",
   "execution_count": 2,
   "metadata": {},
   "outputs": [],
   "source": [
    "def create_chat(conn, sender, recipients, message, chat_id=None):\n",
    "    chat_id = chat_id or str(conn.incr('ids:chat:'))\n",
    "    \n",
    "    recipients.append(sender)\n",
    "    recipientsd = dict((r, 0) for r in recipients)\n",
    "    pipeline = conn.pipeline(True)\n",
    "    pipeline.zadd(f'chat:{chat_id}', **recipientsd)\n",
    "    for rec in recipients:\n",
    "        pipeline.zadd(f'seen:{rec}', chat_id, 0)\n",
    "    pipeline.execute()\n",
    "    return send_message(conn, chat_id, sender, message)"
   ]
  },
  {
   "cell_type": "code",
   "execution_count": 3,
   "metadata": {},
   "outputs": [],
   "source": [
    "def send_message(conn, chat_id, sender, message):\n",
    "    identifier = acquire_lock(conn, f'chat:{chat_id}')\n",
    "    if not identifier:\n",
    "        raise Exception('Could not get the lock')\n",
    "    try:\n",
    "        # mid stands for message id.\n",
    "        mid = conn.incr(f'ids:{chat_id}')\n",
    "        ts = time.time()\n",
    "        packed = json.dumps({\n",
    "            'id': mid,\n",
    "            'ts': ts,\n",
    "            'sender': sender,\n",
    "            'message': message\n",
    "        })\n",
    "        conn.zadd(f'msgs:{chat_id}', packed, mid)\n",
    "    finally:\n",
    "        release_lock(conn, f'chat:{chat_id}', identifier)\n",
    "    return chat_id"
   ]
  },
  {
   "cell_type": "code",
   "execution_count": 5,
   "metadata": {},
   "outputs": [],
   "source": [
    "def fetch_pending_messages(conn, recipient):\n",
    "    seen = conn.zrange(f'seen:{recipient}', 0, -1, withscores=True)\n",
    "    pipeline = conn.pipeline(True)\n",
    "    \n",
    "    # Fetch all new messages.\n",
    "    for chat_id, seen_id in seen:\n",
    "        pipeline.zrangebyscore(f'msgs:{chat_id}', seen_id+1, 'inf')\n",
    "\n",
    "    # Prepare information about the data to be returned.\n",
    "    chat_info = zip(seen, pipeline.execute())\n",
    "    for i, ((chat_id, seen_id), messages) in enumerate(chat_info):\n",
    "        if not messages:\n",
    "            continue\n",
    "        messages[:] = map(json.loads, messages)\n",
    "        seen_id = messages[-1]['id']\n",
    "        \n",
    "        # Update the 'chat' ZSET with the most recently received message.\n",
    "        conn.zadd(f'chat:{chat_id}', 0, 0, withscores=True)\n",
    "\n",
    "        # Discover messages that have been seen by all users.\n",
    "        min_id = conn.zrange(f'chat:{chat_id}', 0, 0, withscores=True)\n",
    "        \n",
    "        # Update the seen set.\n",
    "        pipeline.zadd(f'seen:{recipient}', chat_id, seen_id)\n",
    "        \n",
    "        # Clean out messages that have been seen by all users.\n",
    "        if min_id:\n",
    "            pipeline.zremrangebyscore(f'msgs:{chat_id}', 0, min_id[0][1])\n",
    "\n",
    "        chat_info[i] = (chat_id, messages)\n",
    "    pipeline.execute()\n",
    "    return chat_info"
   ]
  },
  {
   "cell_type": "code",
   "execution_count": 6,
   "metadata": {},
   "outputs": [],
   "source": [
    "def join_chat(conn, chat_id, user):\n",
    "    # Get the most recent message id for the chat.\n",
    "    message_id = int(conn.get(f'ids:{chat_id}'))\n",
    "    \n",
    "    pipeline = conn.pipeline(True)\n",
    "    # Add the user to the chat member list.\n",
    "    pipeline.zadd(f'chat:{chat_id}', user, message_id)\n",
    "    \n",
    "    # Add the chat to the user's seen list.\n",
    "    pipeline.zadd(f'seen:{user}', chat_id, message_id)\n",
    "    pipeline.execute()"
   ]
  },
  {
   "cell_type": "code",
   "execution_count": 7,
   "metadata": {},
   "outputs": [],
   "source": [
    "def leave_chat(conn, chat_id, user):\n",
    "    pipeline = conn.pipeline(True)\n",
    "    pipeline.zrem(f'chat:{chat_id}', user)\n",
    "    \n",
    "    # Remove the user from the chat.\n",
    "    pipeline.zrem(f'seen:{user}', chat_id)\n",
    "    \n",
    "    # Find the number of remaining group members.\n",
    "    pipeline.zcard(f'chat:{chat_id}')\n",
    "    \n",
    "    # Delete the chat.\n",
    "    if not pipeline.execute()[-1]:\n",
    "        pipeline.delete(f'msgs:{chat_id}')\n",
    "        pipeline.delete(f'ids:{chat_id}')\n",
    "        pipeline.execute()\n",
    "    else:\n",
    "        # Find the oldest message seen by all users.\n",
    "        oldest = conn.zrange(f'chat:{chat_id}', 0, 0, withscores=True)\n",
    "        \n",
    "        # Delete old messages from the chat.\n",
    "        conn.zremrangebyscore(f'chat:{chat_id}', 0, oldest)"
   ]
  },
  {
   "cell_type": "code",
   "execution_count": null,
   "metadata": {},
   "outputs": [],
   "source": []
  }
 ],
 "metadata": {
  "kernelspec": {
   "display_name": "Python 3",
   "language": "python",
   "name": "python3"
  },
  "language_info": {
   "codemirror_mode": {
    "name": "ipython",
    "version": 3
   },
   "file_extension": ".py",
   "mimetype": "text/x-python",
   "name": "python",
   "nbconvert_exporter": "python",
   "pygments_lexer": "ipython3",
   "version": "3.7.4"
  }
 },
 "nbformat": 4,
 "nbformat_minor": 2
}
