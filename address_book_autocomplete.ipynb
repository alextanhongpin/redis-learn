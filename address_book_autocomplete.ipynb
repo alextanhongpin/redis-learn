{
 "cells": [
  {
   "cell_type": "code",
   "execution_count": 18,
   "metadata": {},
   "outputs": [],
   "source": [
    "import redis \n",
    "import unittest\n",
    "import bisect\n",
    "import uuid"
   ]
  },
  {
   "cell_type": "code",
   "execution_count": 19,
   "metadata": {},
   "outputs": [],
   "source": [
    "valid_characters = '`abcdefghijklmnopqrstuvwxyz{'\n",
    "\n",
    "def find_prefix_range(prefix):\n",
    "    posn = bisect.bisect_left(valid_characters, prefix[-1:])\n",
    "    suffix = valid_characters[(posn or 1) - 1]\n",
    "    return f'{prefix[:-1]}{suffix}{{', f'{prefix}{{'"
   ]
  },
  {
   "cell_type": "code",
   "execution_count": 34,
   "metadata": {},
   "outputs": [],
   "source": [
    "def autocomplete_on_prefix(conn, guild, prefix):\n",
    "    start, end = find_prefix_range(prefix)\n",
    "    identifier = str(uuid.uuid4())\n",
    "    \n",
    "    start += identifier\n",
    "    end += identifier\n",
    "    \n",
    "    zset_name = f'members:{guild}'\n",
    "    \n",
    "    # Add the start/end range items to the zset.\n",
    "    conn.zadd(zset_name, {start: 0, end: 0})\n",
    "    pipeline = conn.pipeline(True)\n",
    "    while 1:\n",
    "        try:\n",
    "            # Find the ranks of our end points.\n",
    "            pipeline.watch(zset_name)\n",
    "            sindex = pipeline.zrank(zset_name, start)\n",
    "            eindex = pipeline.zrank(zset_name, end)\n",
    "            erange = min(sindex + 9, eindex - 2)\n",
    "            pipeline.multi()\n",
    "            \n",
    "            # Get the values inside our range, and cleanup.\n",
    "            pipeline.zrem(zset_name, start, end)\n",
    "            pipeline.zrange(zset_name, sindex, erange)\n",
    "            items = pipeline.execute()[-1]\n",
    "            break\n",
    "        except redis.exceptions.WatchError:\n",
    "            # Retry if someone modified our autocomplete zset.\n",
    "            continue\n",
    "    # Remove start/end entries if an autocomplete was in progress.\n",
    "    return [item for item in items if '{' not in item]"
   ]
  },
  {
   "cell_type": "code",
   "execution_count": 35,
   "metadata": {},
   "outputs": [],
   "source": [
    "def join_guild(conn, guild, user):\n",
    "    conn.zadd(f'members:{guild}', {user: 0})"
   ]
  },
  {
   "cell_type": "code",
   "execution_count": 41,
   "metadata": {},
   "outputs": [],
   "source": [
    "def leave_guild(conn, guild, user):\n",
    "    conn.zrem(f'members:{guild}', user)"
   ]
  },
  {
   "cell_type": "code",
   "execution_count": 43,
   "metadata": {},
   "outputs": [
    {
     "name": "stderr",
     "output_type": "stream",
     "text": [
      "..\n",
      "----------------------------------------------------------------------\n",
      "Ran 2 tests in 0.051s\n",
      "\n",
      "OK\n"
     ]
    }
   ],
   "source": [
    "class TestAddressBookAutocomplete(unittest.TestCase):\n",
    "    def setUp(self):\n",
    "        self.conn = redis.Redis(password='123456', decode_responses=True)\n",
    "    \n",
    "    def tearDown(self):\n",
    "        self.conn.close()\n",
    "        \n",
    "    def test_sum(self):\n",
    "        self.assertEqual(1+1, 2)\n",
    "        \n",
    "    def test_autocomplete(self):\n",
    "        join_guild(self.conn, 'greenhouse', 'alpha')\n",
    "        join_guild(self.conn, 'greenhouse', 'alice')\n",
    "        join_guild(self.conn, 'greenhouse', 'bob')\n",
    "        \n",
    "        expected = ['alpha', 'alice']\n",
    "        actual = autocomplete_on_prefix(self.conn, 'greenhouse', 'al')\n",
    "        self.assertListEqual(sorted(actual), sorted(expected))\n",
    "        \n",
    "        leave_guild(self.conn, 'greenhouse', 'alpha')\n",
    "        expected = ['alice']\n",
    "        actual = autocomplete_on_prefix(self.conn, 'greenhouse', 'al')\n",
    "        self.assertListEqual(actual, expected)\n",
    "        \n",
    "        expected = ['bob']\n",
    "        actual = autocomplete_on_prefix(self.conn, 'greenhouse', 'b')\n",
    "        self.assertListEqual(actual, expected)\n",
    "        \n",
    "if __name__ == '__main__':\n",
    "    unittest.main(argv=['excluded'], exit=False)"
   ]
  },
  {
   "cell_type": "code",
   "execution_count": 16,
   "metadata": {},
   "outputs": [
    {
     "name": "stdout",
     "output_type": "stream",
     "text": [
      "posn 15\n",
      "suffix n\n"
     ]
    },
    {
     "data": {
      "text/plain": [
       "('helln{', 'hello{')"
      ]
     },
     "execution_count": 16,
     "metadata": {},
     "output_type": "execute_result"
    }
   ],
   "source": [
    "find_prefix_range('hello')"
   ]
  },
  {
   "cell_type": "code",
   "execution_count": null,
   "metadata": {},
   "outputs": [],
   "source": []
  }
 ],
 "metadata": {
  "kernelspec": {
   "display_name": "Python 3 (ipykernel)",
   "language": "python",
   "name": "python3"
  },
  "language_info": {
   "codemirror_mode": {
    "name": "ipython",
    "version": 3
   },
   "file_extension": ".py",
   "mimetype": "text/x-python",
   "name": "python",
   "nbconvert_exporter": "python",
   "pygments_lexer": "ipython3",
   "version": "3.9.16"
  }
 },
 "nbformat": 4,
 "nbformat_minor": 4
}
