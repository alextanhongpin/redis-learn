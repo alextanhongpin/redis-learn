{
 "cells": [
  {
   "cell_type": "code",
   "execution_count": 1,
   "metadata": {},
   "outputs": [],
   "source": [
    "def cpc_to_ecpm(views, clicks, cpc):\n",
    "    return 1000. * cpc * clicks / views"
   ]
  },
  {
   "cell_type": "code",
   "execution_count": 2,
   "metadata": {},
   "outputs": [],
   "source": [
    "def cpa_to_ecpm(views, actions, cpa):\n",
    "    return 1000. * cpa * actions / views"
   ]
  },
  {
   "cell_type": "code",
   "execution_count": 3,
   "metadata": {},
   "outputs": [],
   "source": [
    "TO_ECPM = {\n",
    "    'cpc': cpc_to_ecpm,\n",
    "    'cpa': cpa_to_ecpm,\n",
    "    'cpm': lambda *args: args[-1]\n",
    "}\n",
    "\n",
    "def index_add(conn, id, locations, content, type, value):\n",
    "    pipeline = conn.pipeline(True)\n",
    "    for location in locations:\n",
    "        pipeline.sadd(f'idx:req:{location}', id)\n",
    "    \n",
    "    words = tokenize(content)\n",
    "    \n",
    "    \n",
    "    for word in tokenize(content):\n",
    "        pipeline.zadd(f'idx:{word}', id, 0)\n",
    "        \n",
    "    rvalue = TO_ECPM[type](1000, AVERAGE_PER_1K.get(type, 1), value)\n",
    "    \n",
    "    pipeline.hset('type:', id, type)\n",
    "    pipeline.zadd('idx:ad:value:', id, rvalue)\n",
    "    pipeline.zadd('ad:base_value:', id, value)\n",
    "    pipeline.sadd(f'terms:{id}', *list(words))\n",
    "    pipeline.execute()"
   ]
  },
  {
   "cell_type": "code",
   "execution_count": 4,
   "metadata": {},
   "outputs": [],
   "source": [
    "def target_ads(conn, locations, content):\n",
    "    pipeline = conn.pipeline(True)\n",
    "    matched_ads, base_ecpm = match_location(pipeline, locations)\n",
    "    words, targeted_ads = finish_scoring(pipeline, matched_ads, base_ecpm, content)\n",
    "    \n",
    "    pipeline.incr('ads:served:')\n",
    "    pipeline.zrevrange(f'idx:{targeted_ads}', 0, 0)\n",
    "    target_id, targeted_ad = pipeline.execute()[-2:]\n",
    "    if not targeted_ad:\n",
    "        return None, None\n",
    "    \n",
    "    ad_id = targeted_ad[0]\n",
    "    record_targeting_result(conn, target_id, ad_id, words)\n",
    "    return target_id, ad_id\n",
    "    \n",
    "    "
   ]
  },
  {
   "cell_type": "code",
   "execution_count": 5,
   "metadata": {},
   "outputs": [],
   "source": [
    "def match_location(pipe, locations):\n",
    "    required = ['req:' + loc for loc in locations]\n",
    "    \n",
    "    matched_ads = union(pipe, required, ttl=300, _execute=False)\n",
    "    return matched_ads, zintersect(pipe, {matched_ads: 0, 'ad:value:': 1}, _execute=False)"
   ]
  },
  {
   "cell_type": "code",
   "execution_count": 6,
   "metadata": {},
   "outputs": [],
   "source": [
    "def finish_scoring(pipe, matched, base, content):\n",
    "    bonus_ecpm = {}\n",
    "    words = tokenize(content)\n",
    "    for word in words:\n",
    "        word_bonus = zintersect(pipe, {matched: 0, word: 1}, _execute=False)\n",
    "        bonus_ecpm[word_bonus] = 1\n",
    "    if bonus_ecpm:\n",
    "        minimum = zunion(pipe, bonus_ecpm, aggregate='MIN', _execute=False)\n",
    "        maximum = zunion(pipe, bonus_ecpm, aggregate='MAX', _execute=False)\n",
    "        \n",
    "        return words, zunion(pipe, {base: 1, minimum: .5, maximum: .5}, _execute=False)\n",
    "    return words, base"
   ]
  },
  {
   "cell_type": "code",
   "execution_count": 7,
   "metadata": {},
   "outputs": [],
   "source": [
    "## Recording views"
   ]
  },
  {
   "cell_type": "code",
   "execution_count": 12,
   "metadata": {},
   "outputs": [],
   "source": [
    "def record_targeting_result(conn, target_id, ad_id, words):\n",
    "    pipeline = conn.pipeline(True)\n",
    "    terms = conn.smembers(f'terms:{ad_id}')\n",
    "    matched = list(words & terms)\n",
    "    \n",
    "    if matched:\n",
    "        matched_key = f'terms:matched:{target_id}'\n",
    "        pipeline.sadd(matched_key, *matched)\n",
    "        pipeline.expire(matched_key, 900)\n",
    "        \n",
    "    type = conn.hget('type:', ad_id)\n",
    "    pipeline.incr(f'type:{type}:views:')\n",
    "    \n",
    "    for word in matched:\n",
    "        pipeline.zincrby(f'views:{ad_id}', word)\n",
    "    pipeline.zincrby(f'views:{ad_id}', '')\n",
    "    \n",
    "    \n",
    "    if not pipeline.execute()[-1] % 100:\n",
    "        update_cpms(conn, ad_id)"
   ]
  },
  {
   "cell_type": "code",
   "execution_count": 13,
   "metadata": {},
   "outputs": [],
   "source": [
    "## Recording clicks and actions."
   ]
  },
  {
   "cell_type": "code",
   "execution_count": 18,
   "metadata": {},
   "outputs": [],
   "source": [
    "def record_click(conn, target_id, ad_id, action=False):\n",
    "    pipeline = conn.pipeline(True)\n",
    "    click_key = f'clicks:{ad_id}'\n",
    "    match_key = f'terms:matched:{target_id}'\n",
    "    \n",
    "    type = conn.hget('type:', ad_id)\n",
    "    if type == 'cpa':\n",
    "        pipeline.expire(match_key, 900)\n",
    "        \n",
    "        if action:\n",
    "            click_key = f'actions:{ad_id}'\n",
    "    \n",
    "    if action and type == 'cpa':\n",
    "        pipeline.incr('type:{type}:actions:')\n",
    "        pipeline.incr('type:{type}:clicks:')\n",
    "    \n",
    "    matched = list(conn.smembers(match_key))\n",
    "    matched.append('')\n",
    "    for word in matched:\n",
    "        pipeline.zincrby(click_key, word)\n",
    "    pipeline.execute()\n",
    "    update_cpms(conn, ad_id)"
   ]
  },
  {
   "cell_type": "code",
   "execution_count": 19,
   "metadata": {},
   "outputs": [],
   "source": [
    "def update_cpms(conn, ad_id):\n",
    "    pipeline = conn.pipeline(True)\n",
    "    pipeline.hget('type:', ad_id)\n",
    "    pipeline.zscore('ad:base_value:', ad_id)\n",
    "    pipeline.smembers(f'terms:{ad_id}')\n",
    "    type, base_value, words = pipeline.execute()\n",
    "    \n",
    "    which = 'clicks'\n",
    "    if type == 'cpa':\n",
    "        which = 'actions'\n",
    "    \n",
    "    pipeline.get(f'type:{type}:views')\n",
    "    pipeline.get(f'type:{type}:{which}')\n",
    "    type_views, type_clicks = pipeline.execute()\n",
    "    \n",
    "    \n",
    "    AVERAGE_PER_1K[type] = (1000. * int(type_clicks or '1') / int(type_views or '1'))\n",
    "    \n",
    "    if type == 'cpm':\n",
    "        return\n",
    "\n",
    "    view_key = f'views:{ad_id}'\n",
    "    click_key = f'{which}:{ad_id}'\n",
    "    \n",
    "    to_ecpm = TO_ECPM[type]\n",
    "    \n",
    "    pipeline.zscore(view_key, '')\n",
    "    pipeline.zscore(click_key, '')\n",
    "    ad_views, ad_clicks = pipeline.execute()\n",
    "    \n",
    "    if (ad_clicks or 0) < 1:\n",
    "        ad_ecpm = conn.zscore('idx:ad:value:', ad_id)\n",
    "    else:\n",
    "        ad_ecpm = to_ecpm(ad_views or 1, ad_clicks or 0, base_value)\n",
    "        pipeline.zadd('idx:ad:value:', ad_id, ad_ecpm)\n",
    "        \n",
    "    for word in words:\n",
    "        pipeline.zscore(view_key, word)\n",
    "        pipeline.zscore(click_key, word)\n",
    "        views, clicks = pipeline.execute()[-2:]\n",
    "        \n",
    "        if (clicks or 0) < 1:\n",
    "            continue\n",
    "        \n",
    "        word_ecpm = to_ecpm(views or 1, clicks or 0, base_value)\n",
    "        bonus = word_ecpm - ad_ecpm\n",
    "        pipeline.zadd(f'idx:{word}', ad_id, bonus)\n",
    "    pipeline.execute()"
   ]
  },
  {
   "cell_type": "code",
   "execution_count": null,
   "metadata": {},
   "outputs": [],
   "source": []
  }
 ],
 "metadata": {
  "kernelspec": {
   "display_name": "Python 3",
   "language": "python",
   "name": "python3"
  },
  "language_info": {
   "codemirror_mode": {
    "name": "ipython",
    "version": 3
   },
   "file_extension": ".py",
   "mimetype": "text/x-python",
   "name": "python",
   "nbconvert_exporter": "python",
   "pygments_lexer": "ipython3",
   "version": "3.7.4"
  }
 },
 "nbformat": 4,
 "nbformat_minor": 2
}
