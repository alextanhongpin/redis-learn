{
 "cells": [
  {
   "cell_type": "markdown",
   "metadata": {},
   "source": [
    "# Rate Limiter\n",
    "\n",
    "Rate limiter limits the requests made by users, mainly to\n",
    "\n",
    "- prevent resource exhausing\n",
    "- security\n",
    "\n",
    "Some common rate limiting algorithm includes\n",
    "\n",
    "- Leaky bucket\n",
    "- Token bucket\n",
    "- Fixed window counter\n",
    "- Sliding Log\n",
    "- Sliding Window Counter\n",
    "- Genetic Cell Rate Algorithm (GRCA)\n",
    "\n",
    "## Leaky bucket\n",
    "\n",
    "- a queue with limited capacity is created\n",
    "- when the queue is full, new requests are dropped\n",
    "- requests are processed at a constant rate (\"leaks\" at a constant rate)\n",
    "\n",
    "Cons\n",
    "- a bursts can fill the bucket, preventing new requests\n",
    "- no guarantee that the request gets completed within the rate the bucket leaks\n",
    "\n",
    "## Token bucket\n",
    "\n",
    "- user receives token at a fixed rate\n",
    "- the token is capped\n",
    "- when the user makes a request, the token is spent\n",
    "- no new requests can be made if the user do not have any token\n",
    "\n",
    "Cons\n",
    "- potential race condition when \"spending\" token\n",
    "\n",
    "## Fixed window counter\n",
    "\n",
    "- a time window is created, e.g. 5s time window means time from 0-5s, 5-10s etc\n",
    "- everytime a request is made, the counter at the time window is incremented\n",
    "- once the limit is hit, no requests can be made\n",
    "\n",
    "## Sliding log\n",
    "\n",
    "- keeps the timestamp the requests are made in a sorted set\n",
    "- requests that are made beyond specific thresholds are discarded\n",
    "- if the sorted set count does not exceed the threshold, the request can be performed, and the timestamp appended to the sorted set\n",
    "\n",
    "Cons\n",
    "- not memory efficient\n",
    "\n",
    "\n",
    "## Sliding window counter\n",
    "- combines both fixed window counter + sliding log\n",
    "- stores the counter in the previous and current time limit\n",
    "- computes the possible requests made\n",
    "\n",
    "e.g. \n",
    "```\n",
    "window0: 8 requests made\n",
    "window1: 4 requests made\n",
    "each window is 5 seconds long.\n",
    "At the 7.5 seconds (half of window1), we have made 8 * 0.5 = 4 requests in window0 and 4 requests in window1, total of 8 requests.\n",
    "```\n",
    "## References\n",
    "\n",
    "- https://medium.com/@sahiljadon/rate-limiting-using-redis-lists-and-sorted-sets-9b42bc192222\n",
    "- https://redislabs.com/redis-best-practices/basic-rate-limiting/\n",
    "- https://www.binpress.com/rate-limiting-with-redis-1/\n",
    "- https://blog.callr.tech/rate-limiting-for-distributed-systems-with-redis-and-lua/\n",
    "- https://brandur.org/redis-cluster\n",
    "- https://engineering.classdojo.com/blog/2015/02/06/rolling-rate-limiter/\n",
    "- https://vikas-kumar.medium.com/rate-limiting-techniques-245c3a5e9cad#:~:text=GCRA%20is%20a%20sophisticated%20algorithm,(say%20a%20few%20seconds)."
   ]
  },
  {
   "cell_type": "code",
   "execution_count": 1,
   "metadata": {},
   "outputs": [],
   "source": [
    "import time\n",
    "\n",
    "import redis"
   ]
  },
  {
   "cell_type": "code",
   "execution_count": 2,
   "metadata": {},
   "outputs": [],
   "source": [
    "r = redis.Redis(decode_responses=True)"
   ]
  },
  {
   "cell_type": "code",
   "execution_count": 3,
   "metadata": {},
   "outputs": [
    {
     "data": {
      "text/plain": [
       "True"
      ]
     },
     "execution_count": 3,
     "metadata": {},
     "output_type": "execute_result"
    }
   ],
   "source": [
    "r.ping()"
   ]
  },
  {
   "cell_type": "code",
   "execution_count": 4,
   "metadata": {},
   "outputs": [
    {
     "data": {
      "text/plain": [
       "True"
      ]
     },
     "execution_count": 4,
     "metadata": {},
     "output_type": "execute_result"
    }
   ],
   "source": [
    "r.set(\"hello\", \"world\")"
   ]
  },
  {
   "cell_type": "code",
   "execution_count": 6,
   "metadata": {},
   "outputs": [
    {
     "data": {
      "text/plain": [
       "'world'"
      ]
     },
     "execution_count": 6,
     "metadata": {},
     "output_type": "execute_result"
    }
   ],
   "source": [
    "# Basic lua script.\n",
    "lua = \"return redis.call('GET', KEYS[1])\"\n",
    "r.eval(lua, 1, \"hello\")"
   ]
  },
  {
   "cell_type": "code",
   "execution_count": 7,
   "metadata": {},
   "outputs": [
    {
     "data": {
      "text/plain": [
       "4"
      ]
     },
     "execution_count": 7,
     "metadata": {},
     "output_type": "execute_result"
    }
   ],
   "source": [
    "# Alternative with register_script method.\n",
    "lua = \"\"\"\n",
    "local value = redis.call('GET', KEYS[1])\n",
    "value = tonumber(value)\n",
    "return value * ARGV[1]\"\"\"\n",
    "multiply = r.register_script(lua)\n",
    "\n",
    "r.set(\"foo\", 2)\n",
    "multiply(keys=[\"foo\"], args=[2])"
   ]
  },
  {
   "cell_type": "markdown",
   "metadata": {},
   "source": [
    "## Allow only N API requests per minute"
   ]
  },
  {
   "cell_type": "code",
   "execution_count": 17,
   "metadata": {},
   "outputs": [],
   "source": [
    "class RateLimiter:\n",
    "    def __init__(self, conn, limit=5):\n",
    "        self.conn = conn\n",
    "        self.nkeys = 1\n",
    "        self.limit = limit\n",
    "        self.script = \"\"\"\n",
    "            if redis.call('EXISTS', KEYS[1]) == 0 then\n",
    "                redis.call('SETEX', KEYS[1], 60, 0)\n",
    "            end\n",
    "            redis.call('INCR', KEYS[1])\n",
    "            if tonumber(redis.call('GET', KEYS[1])) <= tonumber(ARGV[1]) then\n",
    "                return 'ok'\n",
    "            else\n",
    "                return 'limit exceeded'\n",
    "            end\n",
    "        \"\"\"\n",
    "\n",
    "    def allow(self, ip):\n",
    "        return self.conn.eval(self.script, self.nkeys, ip, self.limit) == \"ok\""
   ]
  },
  {
   "cell_type": "code",
   "execution_count": 18,
   "metadata": {},
   "outputs": [],
   "source": [
    "ratelimit = RateLimiter(r)"
   ]
  },
  {
   "cell_type": "code",
   "execution_count": 24,
   "metadata": {},
   "outputs": [
    {
     "data": {
      "text/plain": [
       "False"
      ]
     },
     "execution_count": 24,
     "metadata": {},
     "output_type": "execute_result"
    }
   ],
   "source": [
    "ratelimit.allow(1)"
   ]
  },
  {
   "cell_type": "code",
   "execution_count": 55,
   "metadata": {},
   "outputs": [
    {
     "data": {
      "text/plain": [
       "'1'"
      ]
     },
     "execution_count": 55,
     "metadata": {},
     "output_type": "execute_result"
    }
   ],
   "source": [
    "r.get(\"1\")"
   ]
  },
  {
   "cell_type": "markdown",
   "metadata": {},
   "source": [
    "## Allow only N API requests per minute on a running window"
   ]
  },
  {
   "cell_type": "markdown",
   "metadata": {},
   "source": [
    "In the previous redis version, passing `time` to the script is always the recommended approach, as mentioned [here](https://redis.io/docs/manual/programmability/eval-intro/#:~:text=Acts%20such%20as%20using%20the%20system%20time%2C%20calling%20Redis%20commands%20that%20return%20random%20values%20(e.g.%2C%20RANDOMKEY)%2C%20or%20using%20Lua%27s%20random%20number%20generator%2C%20could%20result%20in%20scripts%20that%20will%20not%20evaluate%20consistently.). Call to `redis.call(\"TIME\")` is not recommended.\n",
    "\n",
    "However, in the newer version, you can do that."
   ]
  },
  {
   "cell_type": "code",
   "execution_count": 55,
   "metadata": {},
   "outputs": [
    {
     "data": {
      "text/plain": [
       "1673341712"
      ]
     },
     "execution_count": 55,
     "metadata": {},
     "output_type": "execute_result"
    }
   ],
   "source": [
    "# Returns seconds\n",
    "int(time.time())"
   ]
  },
  {
   "cell_type": "code",
   "execution_count": 62,
   "metadata": {},
   "outputs": [],
   "source": [
    "class RateLimiter:\n",
    "    def __init__(self, conn, n=5):\n",
    "        self.conn = conn\n",
    "        self.n = n\n",
    "        self.lua = self.conn.register_script(\n",
    "            f\"\"\"\n",
    "            -- ARGV[1]: The limit.\n",
    "            -- ARGV[2]: The current timestamp in seconds.\n",
    "            -- KEYS[1]: The key to rate limit, e.g. clientIP + userID/sessionID\n",
    "            local count = tonumber(redis.call('LLEN', KEYS[1]))\n",
    "            if count < tonumber(ARGV[1]) then\n",
    "                redis.call('LPUSH', KEYS[1], now)\n",
    "                return 'ok'\n",
    "            else\n",
    "                local now = redis.call('TIME')[1]\n",
    "                local time = tonumber(redis.call('LINDEX', KEYS[1], -1))\n",
    "                if now - time < 60 then\n",
    "                    return 'limit exceeded'\n",
    "                else\n",
    "                    -- Push the timestamp to the list.\n",
    "                    redis.call('LPUSH', KEYS[1], now)\n",
    "                    \n",
    "                    -- Remove previous item in the list.\n",
    "                    redis.call('RPOP', KEYS[1])\n",
    "                    return 'ok'\n",
    "                end\n",
    "            end\n",
    "        \"\"\"\n",
    "        )\n",
    "\n",
    "    def allow(self, ip):\n",
    "        return self.lua(keys=[ip], args=[self.n]) == \"ok\""
   ]
  },
  {
   "cell_type": "code",
   "execution_count": 63,
   "metadata": {},
   "outputs": [],
   "source": [
    "ratelimit = RateLimiter(r, 10)"
   ]
  },
  {
   "cell_type": "code",
   "execution_count": 75,
   "metadata": {},
   "outputs": [
    {
     "data": {
      "text/plain": [
       "False"
      ]
     },
     "execution_count": 75,
     "metadata": {},
     "output_type": "execute_result"
    }
   ],
   "source": [
    "ratelimit.allow(1)"
   ]
  },
  {
   "cell_type": "code",
   "execution_count": 76,
   "metadata": {},
   "outputs": [
    {
     "data": {
      "text/plain": [
       "10"
      ]
     },
     "execution_count": 76,
     "metadata": {},
     "output_type": "execute_result"
    }
   ],
   "source": [
    "r.llen(\"1\")"
   ]
  },
  {
   "cell_type": "markdown",
   "metadata": {},
   "source": [
    "## Rate limiting using sorted set"
   ]
  },
  {
   "cell_type": "code",
   "execution_count": 12,
   "metadata": {},
   "outputs": [],
   "source": [
    "class RateLimiter:\n",
    "    def __init__(self, conn, n=5):\n",
    "        self.conn = conn\n",
    "        self.n = n\n",
    "        self.lua = self.conn.register_script(\n",
    "            f\"\"\"\n",
    "            -- ARGV[1]: The current limit.\n",
    "            -- KEYS[1]: The key to rate limit, e.g. clientIP + userID/sessionID.\n",
    "            local limit = tonumber(ARGV[1])\n",
    "            local now = redis.call('TIME')\n",
    "            -- The first argument is seconds, the second is microseconds.\n",
    "            -- Convert them to microseconds.\n",
    "            local now_ms = math.floor(now[1] * 1000 + now[2] / 1000)\n",
    "            \n",
    "            -- Delete all keys that are older than 1 minute ago.\n",
    "            redis.call('ZREMRANGEBYSCORE', KEYS[1], 0, now_ms - 60*1000)\n",
    "            \n",
    "            -- Find the number of remaining tokens left. \n",
    "            if tonumber(redis.call('ZCARD', KEYS[1])) < limit then\n",
    "                redis.call('ZADD', KEYS[1], now_ms, now_ms)\n",
    "                return 'ok'\n",
    "            else\n",
    "                return 'limit exceeded'\n",
    "            end\n",
    "        \"\"\"\n",
    "        )\n",
    "\n",
    "    def allow(self, ip):\n",
    "        # We need millisecond precisions - else the seconds will be counted as 1 item in the sorted set.\n",
    "        return self.lua(keys=[ip], args=[self.n]) == \"ok\""
   ]
  },
  {
   "cell_type": "code",
   "execution_count": 13,
   "metadata": {},
   "outputs": [
    {
     "name": "stdout",
     "output_type": "stream",
     "text": [
      "True\n",
      "True\n",
      "True\n",
      "True\n",
      "True\n",
      "False\n"
     ]
    }
   ],
   "source": [
    "ratelimit = RateLimiter(r)\n",
    "for i in range(6):\n",
    "    print(ratelimit.allow(\"0.0.0.0\"))"
   ]
  },
  {
   "cell_type": "code",
   "execution_count": 83,
   "metadata": {},
   "outputs": [
    {
     "data": {
      "text/plain": [
       "[('1673342160207', 1673342160207.0),\n",
       " ('1673342160221', 1673342160221.0),\n",
       " ('1673342160223', 1673342160223.0),\n",
       " ('1673342160236', 1673342160236.0),\n",
       " ('1673342160247', 1673342160247.0)]"
      ]
     },
     "execution_count": 83,
     "metadata": {},
     "output_type": "execute_result"
    }
   ],
   "source": [
    "r.zrange(\"0.0.0.0\", 0, -1, withscores=True)"
   ]
  },
  {
   "cell_type": "markdown",
   "metadata": {},
   "source": [
    "# Allow 5 req per minute, but in future time"
   ]
  },
  {
   "cell_type": "code",
   "execution_count": 47,
   "metadata": {},
   "outputs": [],
   "source": [
    "class RateLimiter:\n",
    "    def __init__(self, conn, n=5):\n",
    "        self.conn = conn\n",
    "        self.n = n\n",
    "        self.period = 60 / n\n",
    "        self.lua = self.conn.register_script(\n",
    "            f\"\"\"\n",
    "            -- KEYS[1]: The key to rate limit, e.g. clientIP + userID/sessionID.\n",
    "            -- ARGV[1]: The period before the next call in seconds.\n",
    "            local key = KEYS[1]\n",
    "            local period = tonumber(ARGV[1])\n",
    "            \n",
    "            -- The first argument is seconds, the second is microseconds.\n",
    "            -- Convert everything to microsends.\n",
    "            local now = redis.call('TIME')\n",
    "            local now_ms = now[1] * 10^6 + now[2]\n",
    "            \n",
    "            local future = redis.call('GET', key)\n",
    "            if future ~= nil then\n",
    "                future = tonumber(future)\n",
    "            else\n",
    "                future = 0\n",
    "            end\n",
    "\n",
    "            if now_ms < future then\n",
    "                return 'limit exceeded'\n",
    "            else\n",
    "                redis.call('SET', key, now_ms + (period * 10^6))\n",
    "                return 'ok'\n",
    "            end\n",
    "        \"\"\"\n",
    "        )\n",
    "\n",
    "    def allow(self, ip):\n",
    "        return self.lua(keys=[ip], args=[self.period]) == \"ok\""
   ]
  },
  {
   "cell_type": "code",
   "execution_count": 51,
   "metadata": {},
   "outputs": [
    {
     "name": "stdout",
     "output_type": "stream",
     "text": [
      "False\n",
      "False\n",
      "False\n",
      "False\n",
      "False\n",
      "False\n"
     ]
    }
   ],
   "source": [
    "ratelimit = RateLimiter(r)\n",
    "for i in range(6):\n",
    "    print(ratelimit.allow(\"0.0.0.0\"))"
   ]
  },
  {
   "cell_type": "code",
   "execution_count": 20,
   "metadata": {},
   "outputs": [
    {
     "name": "stdout",
     "output_type": "stream",
     "text": [
      "okay: elapsed 0\n",
      "limited: elapsed 133\n",
      "okay: elapsed 241\n",
      "limited: elapsed 346\n",
      "okay: elapsed 447\n",
      "limited: elapsed 552\n",
      "okay: elapsed 656\n",
      "limited: elapsed 760\n",
      "okay: elapsed 862\n",
      "limited: elapsed 968\n"
     ]
    }
   ],
   "source": [
    "# After making the first call, we compute the time where the next possible call can be made.\n",
    "future = 0\n",
    "n = 5\n",
    "period = 1 / n  # 5 requests per second.\n",
    "\n",
    "start = int(time.time_ns() / 1e6)\n",
    "\n",
    "for i in range(10):\n",
    "    now = int(time.time_ns() / 1e6)  # ms\n",
    "    if now < future:\n",
    "        print(\"limited\", end=\": \")\n",
    "    else:\n",
    "        future = now + period * 1000\n",
    "        print(\"okay\", end=\": \")\n",
    "    time.sleep(0.1)\n",
    "    print(\"elapsed\", now - start)"
   ]
  },
  {
   "cell_type": "code",
   "execution_count": 26,
   "metadata": {},
   "outputs": [],
   "source": [
    "def time_ms():\n",
    "    return time.time_ns() // 1e6"
   ]
  },
  {
   "cell_type": "code",
   "execution_count": 29,
   "metadata": {},
   "outputs": [
    {
     "data": {
      "text/plain": [
       "1673345783208.0"
      ]
     },
     "execution_count": 29,
     "metadata": {},
     "output_type": "execute_result"
    }
   ],
   "source": [
    "time_ms()"
   ]
  },
  {
   "cell_type": "code",
   "execution_count": 49,
   "metadata": {},
   "outputs": [
    {
     "name": "stdout",
     "output_type": "stream",
     "text": [
      "count 0 rem 8366733669.0, done okay: elapsed 505.0\n",
      "count 1.0 rem 1.0, limited: elapsed 609.0\n",
      "count 1.0 rem 2.0, okay: elapsed 714.0\n",
      "count 2.0 rem 2.0, limited: elapsed 817.0\n",
      "count 2.0 rem 3.0, okay: elapsed 921.0\n",
      "count 3.0 rem 3.0, limited: elapsed 1026.0\n",
      "count 3.0 rem 4.0, okay: elapsed 1127.0\n",
      "count 4.0 rem 4.0, limited: elapsed 1229.0\n",
      "count 4.0 rem 5.0, okay: elapsed 1331.0\n",
      "count 5.0 rem 5.0, limited: elapsed 1436.0\n",
      "count 5.0 rem 6.0, done okay: elapsed 1540.0\n",
      "count 1.0 rem 1.0, limited: elapsed 1643.0\n",
      "count 1.0 rem 2.0, okay: elapsed 1747.0\n",
      "count 2.0 rem 2.0, limited: elapsed 1851.0\n",
      "count 2.0 rem 3.0, okay: elapsed 1959.0\n",
      "count 3.0 rem 3.0, limited: elapsed 2059.0\n",
      "count 3.0 rem 4.0, okay: elapsed 2160.0\n",
      "count 4.0 rem 4.0, limited: elapsed 2264.0\n",
      "count 4.0 rem 5.0, okay: elapsed 2370.0\n",
      "count 5.0 rem 5.0, limited: elapsed 2474.0\n"
     ]
    }
   ],
   "source": [
    "import math\n",
    "\n",
    "# In this implementation, we store the future time the call can be made, as well as the counter\n",
    "# future = t_future * 1000 + n_counter\n",
    "\n",
    "future = 0\n",
    "t = 1\n",
    "n = 5  # Also 5 request per second, but with smoothing.\n",
    "period = t / n\n",
    "\n",
    "# Microseconds, we will store the present counter in the future time.\n",
    "# The counter n cannot be more than 1000 (there is an option to use nanoseconds too)\n",
    "start = time_ms() * 1000\n",
    "\n",
    "\n",
    "for i in range(20):\n",
    "    if i == 0:\n",
    "        time.sleep(0.5)\n",
    "    now = time_ms() * 1000  # microseconds\n",
    "    count = future % 1000\n",
    "\n",
    "    # At every time interval, we can only make certain number of calls.\n",
    "    rem = n - ((future - now) // (period * 1e6))\n",
    "    print(\"count\", count, \"rem\", rem, end=\", \")\n",
    "\n",
    "    # Already exceeded the rate-limit period, can make new calls.\n",
    "    if now > future:\n",
    "        # The future time is the time taken to make the 5 requests, which is 1 second\n",
    "        # We add the counter 1 at the end to indicate a call has been consumed.\n",
    "        future = now + (t * 1e6) + 1\n",
    "        print(\"done okay\", end=\": \")\n",
    "    elif count < rem:\n",
    "        print(\"okay\", end=\": \")\n",
    "        future += 1\n",
    "    else:\n",
    "        print(\"limited\", end=\": \")\n",
    "    time.sleep(0.1)\n",
    "    print(\"elapsed\", (now - start) / 1e3)"
   ]
  },
  {
   "cell_type": "markdown",
   "metadata": {},
   "source": [
    "## Sliding window counter"
   ]
  },
  {
   "cell_type": "code",
   "execution_count": 90,
   "metadata": {},
   "outputs": [],
   "source": [
    "import math\n",
    "import time\n",
    "from collections import defaultdict\n",
    "\n",
    "windows = defaultdict(int)\n",
    "\n",
    "\n",
    "def time_ms():\n",
    "    return int(time.time_ns() // 1e6)\n",
    "\n",
    "\n",
    "# 5 request per second, bursts\n",
    "def allow(key, *, period=1, n=5):\n",
    "    ms = time_ms()\n",
    "    period_ms = period * 1e3\n",
    "    curr_window = ms // period_ms * period_ms\n",
    "    if curr_window not in windows:\n",
    "        windows[curr_window] += 1\n",
    "        return True\n",
    "\n",
    "    prev_window = curr_window - period_ms\n",
    "\n",
    "    ratio = 1 - (ms - curr_window) / period_ms\n",
    "    prev_count = int(windows.get(prev_window, 0) * ratio)\n",
    "    curr_count = windows.get(curr_window, 0)\n",
    "\n",
    "    if prev_count + curr_count < n:\n",
    "        windows[curr_window] += 1\n",
    "        return True\n",
    "    return False"
   ]
  },
  {
   "cell_type": "code",
   "execution_count": 91,
   "metadata": {},
   "outputs": [
    {
     "name": "stdout",
     "output_type": "stream",
     "text": [
      "0 True 54 1673356301416\n",
      "1 True 138 1673356301500\n",
      "2 True 190 1673356301552\n",
      "3 True 244 1673356301606\n",
      "4 True 296 1673356301658\n",
      "5 False 348 1673356301710\n",
      "6 False 401 1673356301763\n",
      "7 False 453 1673356301815\n",
      "8 False 507 1673356301869\n",
      "9 False 562 1673356301924\n",
      "10 False 615 1673356301977\n",
      "11 True 668 1673356302030\n",
      "12 False 720 1673356302082\n",
      "13 False 772 1673356302134\n",
      "14 False 827 1673356302189\n",
      "15 True 881 1673356302243\n",
      "16 False 936 1673356302298\n",
      "17 False 988 1673356302350\n",
      "18 True 1039 1673356302401\n",
      "19 False 1094 1673356302456\n"
     ]
    }
   ],
   "source": [
    "start = time_ms()\n",
    "for i in range(20):\n",
    "    time.sleep(0.05)\n",
    "    print(i, allow(\"hello\"), time_ms() - start, time_ms())"
   ]
  },
  {
   "cell_type": "code",
   "execution_count": null,
   "metadata": {},
   "outputs": [],
   "source": []
  }
 ],
 "metadata": {
  "kernelspec": {
   "display_name": "Python 3 (ipykernel)",
   "language": "python",
   "name": "python3"
  },
  "language_info": {
   "codemirror_mode": {
    "name": "ipython",
    "version": 3
   },
   "file_extension": ".py",
   "mimetype": "text/x-python",
   "name": "python",
   "nbconvert_exporter": "python",
   "pygments_lexer": "ipython3",
   "version": "3.9.16"
  }
 },
 "nbformat": 4,
 "nbformat_minor": 4
}
