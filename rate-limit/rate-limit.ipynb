{
 "cells": [
  {
   "cell_type": "markdown",
   "metadata": {},
   "source": [
    "## References\n",
    "\n",
    "- https://medium.com/@sahiljadon/rate-limiting-using-redis-lists-and-sorted-sets-9b42bc192222\n",
    "- https://redislabs.com/redis-best-practices/basic-rate-limiting/\n",
    "- https://www.binpress.com/rate-limiting-with-redis-1/\n",
    "- https://blog.callr.tech/rate-limiting-for-distributed-systems-with-redis-and-lua/\n",
    "- https://brandur.org/redis-cluster\n",
    "- https://engineering.classdojo.com/blog/2015/02/06/rolling-rate-limiter/"
   ]
  },
  {
   "cell_type": "code",
   "execution_count": 1,
   "metadata": {},
   "outputs": [],
   "source": [
    "import time\n",
    "\n",
    "import redis"
   ]
  },
  {
   "cell_type": "code",
   "execution_count": 2,
   "metadata": {},
   "outputs": [],
   "source": [
    "r = redis.Redis(decode_responses=True)"
   ]
  },
  {
   "cell_type": "code",
   "execution_count": 3,
   "metadata": {},
   "outputs": [
    {
     "data": {
      "text/plain": [
       "True"
      ]
     },
     "execution_count": 3,
     "metadata": {},
     "output_type": "execute_result"
    }
   ],
   "source": [
    "r.ping()"
   ]
  },
  {
   "cell_type": "code",
   "execution_count": 4,
   "metadata": {},
   "outputs": [
    {
     "data": {
      "text/plain": [
       "True"
      ]
     },
     "execution_count": 4,
     "metadata": {},
     "output_type": "execute_result"
    }
   ],
   "source": [
    "r.set(\"hello\", \"world\")"
   ]
  },
  {
   "cell_type": "code",
   "execution_count": 6,
   "metadata": {},
   "outputs": [
    {
     "data": {
      "text/plain": [
       "'world'"
      ]
     },
     "execution_count": 6,
     "metadata": {},
     "output_type": "execute_result"
    }
   ],
   "source": [
    "# Basic lua script.\n",
    "lua = \"return redis.call('GET', KEYS[1])\"\n",
    "r.eval(lua, 1, \"hello\")"
   ]
  },
  {
   "cell_type": "code",
   "execution_count": 7,
   "metadata": {},
   "outputs": [
    {
     "data": {
      "text/plain": [
       "4"
      ]
     },
     "execution_count": 7,
     "metadata": {},
     "output_type": "execute_result"
    }
   ],
   "source": [
    "# Alternative with register_script method.\n",
    "lua = \"\"\"\n",
    "local value = redis.call('GET', KEYS[1])\n",
    "value = tonumber(value)\n",
    "return value * ARGV[1]\"\"\"\n",
    "multiply = r.register_script(lua)\n",
    "\n",
    "r.set(\"foo\", 2)\n",
    "multiply(keys=[\"foo\"], args=[2])"
   ]
  },
  {
   "cell_type": "markdown",
   "metadata": {},
   "source": [
    "## Allow only N API requests per minute"
   ]
  },
  {
   "cell_type": "code",
   "execution_count": 17,
   "metadata": {},
   "outputs": [],
   "source": [
    "class RateLimiter:\n",
    "    def __init__(self, conn, limit=5):\n",
    "        self.conn = conn\n",
    "        self.nkeys = 1\n",
    "        self.limit = limit\n",
    "        self.script = \"\"\"\n",
    "            if redis.call('EXISTS', KEYS[1]) == 0 then\n",
    "                redis.call('SETEX', KEYS[1], 60, 0)\n",
    "            end\n",
    "            redis.call('INCR', KEYS[1])\n",
    "            if tonumber(redis.call('GET', KEYS[1])) <= tonumber(ARGV[1]) then\n",
    "                return 'ok'\n",
    "            else\n",
    "                return 'limit exceeded'\n",
    "            end\n",
    "        \"\"\"\n",
    "\n",
    "    def allow(self, ip):\n",
    "        return self.conn.eval(self.script, self.nkeys, ip, self.limit) == \"ok\""
   ]
  },
  {
   "cell_type": "code",
   "execution_count": 18,
   "metadata": {},
   "outputs": [],
   "source": [
    "ratelimit = RateLimiter(r)"
   ]
  },
  {
   "cell_type": "code",
   "execution_count": 24,
   "metadata": {},
   "outputs": [
    {
     "data": {
      "text/plain": [
       "False"
      ]
     },
     "execution_count": 24,
     "metadata": {},
     "output_type": "execute_result"
    }
   ],
   "source": [
    "ratelimit.allow(1)"
   ]
  },
  {
   "cell_type": "code",
   "execution_count": 55,
   "metadata": {},
   "outputs": [
    {
     "data": {
      "text/plain": [
       "'1'"
      ]
     },
     "execution_count": 55,
     "metadata": {},
     "output_type": "execute_result"
    }
   ],
   "source": [
    "r.get(\"1\")"
   ]
  },
  {
   "cell_type": "markdown",
   "metadata": {},
   "source": [
    "## Allow only N API requests per minute on a running window"
   ]
  },
  {
   "cell_type": "markdown",
   "metadata": {},
   "source": [
    "In the previous redis version, passing `time` to the script is always the recommended approach, as mentioned [here](https://redis.io/docs/manual/programmability/eval-intro/#:~:text=Acts%20such%20as%20using%20the%20system%20time%2C%20calling%20Redis%20commands%20that%20return%20random%20values%20(e.g.%2C%20RANDOMKEY)%2C%20or%20using%20Lua%27s%20random%20number%20generator%2C%20could%20result%20in%20scripts%20that%20will%20not%20evaluate%20consistently.). Call to `redis.call(\"TIME\")` is not recommended.\n",
    "\n",
    "However, in the newer version, you can do that."
   ]
  },
  {
   "cell_type": "code",
   "execution_count": 55,
   "metadata": {},
   "outputs": [
    {
     "data": {
      "text/plain": [
       "1673341712"
      ]
     },
     "execution_count": 55,
     "metadata": {},
     "output_type": "execute_result"
    }
   ],
   "source": [
    "# Returns seconds\n",
    "int(time.time())"
   ]
  },
  {
   "cell_type": "code",
   "execution_count": 62,
   "metadata": {},
   "outputs": [],
   "source": [
    "class RateLimiter:\n",
    "    def __init__(self, conn, n=5):\n",
    "        self.conn = conn\n",
    "        self.n = n\n",
    "        self.lua = self.conn.register_script(\n",
    "            f\"\"\"\n",
    "            -- ARGV[1]: The limit.\n",
    "            -- ARGV[2]: The current timestamp in seconds.\n",
    "            -- KEYS[1]: The key to rate limit, e.g. clientIP + userID/sessionID\n",
    "            local count = tonumber(redis.call('LLEN', KEYS[1]))\n",
    "            if count < tonumber(ARGV[1]) then\n",
    "                redis.call('LPUSH', KEYS[1], now)\n",
    "                return 'ok'\n",
    "            else\n",
    "                local now = redis.call('TIME')[1]\n",
    "                local time = tonumber(redis.call('LINDEX', KEYS[1], -1))\n",
    "                if now - time < 60 then\n",
    "                    return 'limit exceeded'\n",
    "                else\n",
    "                    -- Push the timestamp to the list.\n",
    "                    redis.call('LPUSH', KEYS[1], now)\n",
    "                    \n",
    "                    -- Remove previous item in the list.\n",
    "                    redis.call('RPOP', KEYS[1])\n",
    "                    return 'ok'\n",
    "                end\n",
    "            end\n",
    "        \"\"\"\n",
    "        )\n",
    "\n",
    "    def allow(self, ip):\n",
    "        return self.lua(keys=[ip], args=[self.n]) == \"ok\""
   ]
  },
  {
   "cell_type": "code",
   "execution_count": 63,
   "metadata": {},
   "outputs": [],
   "source": [
    "ratelimit = RateLimiter(r, 10)"
   ]
  },
  {
   "cell_type": "code",
   "execution_count": 75,
   "metadata": {},
   "outputs": [
    {
     "data": {
      "text/plain": [
       "False"
      ]
     },
     "execution_count": 75,
     "metadata": {},
     "output_type": "execute_result"
    }
   ],
   "source": [
    "ratelimit.allow(1)"
   ]
  },
  {
   "cell_type": "code",
   "execution_count": 76,
   "metadata": {},
   "outputs": [
    {
     "data": {
      "text/plain": [
       "10"
      ]
     },
     "execution_count": 76,
     "metadata": {},
     "output_type": "execute_result"
    }
   ],
   "source": [
    "r.llen(\"1\")"
   ]
  },
  {
   "cell_type": "markdown",
   "metadata": {},
   "source": [
    "## Rate limiting using sorted set"
   ]
  },
  {
   "cell_type": "code",
   "execution_count": 81,
   "metadata": {},
   "outputs": [],
   "source": [
    "class RateLimiter:\n",
    "    def __init__(self, conn, n=5):\n",
    "        self.conn = conn\n",
    "        self.n = n\n",
    "        self.lua = self.conn.register_script(\n",
    "            f\"\"\"\n",
    "            -- ARGV[1]: The current limit.\n",
    "            -- KEYS[1]: The key to rate limit, e.g. clientIP + userID/sessionID.\n",
    "            local limit = tonumber(ARGV[1])\n",
    "            local now = redis.call('TIME')\n",
    "            -- The first argument is seconds, the second is microseconds.\n",
    "            -- Convert them to microseconds.\n",
    "            local now_ms = math.floor(now[1] * 1000 + now[2] / 1000)\n",
    "            \n",
    "            -- Delete all keys that are older than 1 minute ago.\n",
    "            redis.call('ZREMRANGEBYSCORE', KEYS[1], 0, now_ms - 60*1000)\n",
    "            \n",
    "            -- Find the number of remaining tokens left. \n",
    "            if tonumber(redis.call('ZCARD', KEYS[1])) < limit then\n",
    "                redis.call('ZADD', KEYS[1], now_ms, now_ms)\n",
    "                return 'ok'\n",
    "            else\n",
    "                return 'limit exceeded'\n",
    "            end\n",
    "        \"\"\"\n",
    "        )\n",
    "\n",
    "    def allow(self, ip):\n",
    "        # We need millisecond precisions - else the seconds will be counted as 1 item in the sorted set.\n",
    "        return self.lua(keys=[ip], args=[self.n]) == \"ok\""
   ]
  },
  {
   "cell_type": "code",
   "execution_count": 82,
   "metadata": {},
   "outputs": [
    {
     "name": "stdout",
     "output_type": "stream",
     "text": [
      "True\n",
      "True\n",
      "True\n",
      "True\n",
      "True\n",
      "False\n"
     ]
    }
   ],
   "source": [
    "ratelimit = RateLimiter(r)\n",
    "for i in range(6):\n",
    "    print(ratelimit.allow(\"0.0.0.0\"))"
   ]
  },
  {
   "cell_type": "code",
   "execution_count": 83,
   "metadata": {},
   "outputs": [
    {
     "data": {
      "text/plain": [
       "[('1673342160207', 1673342160207.0),\n",
       " ('1673342160221', 1673342160221.0),\n",
       " ('1673342160223', 1673342160223.0),\n",
       " ('1673342160236', 1673342160236.0),\n",
       " ('1673342160247', 1673342160247.0)]"
      ]
     },
     "execution_count": 83,
     "metadata": {},
     "output_type": "execute_result"
    }
   ],
   "source": [
    "r.zrange(\"0.0.0.0\", 0, -1, withscores=True)"
   ]
  },
  {
   "cell_type": "code",
   "execution_count": null,
   "metadata": {},
   "outputs": [],
   "source": []
  },
  {
   "cell_type": "code",
   "execution_count": null,
   "metadata": {},
   "outputs": [],
   "source": []
  }
 ],
 "metadata": {
  "kernelspec": {
   "display_name": "Python 3 (ipykernel)",
   "language": "python",
   "name": "python3"
  },
  "language_info": {
   "codemirror_mode": {
    "name": "ipython",
    "version": 3
   },
   "file_extension": ".py",
   "mimetype": "text/x-python",
   "name": "python",
   "nbconvert_exporter": "python",
   "pygments_lexer": "ipython3",
   "version": "3.9.16"
  }
 },
 "nbformat": 4,
 "nbformat_minor": 4
}
