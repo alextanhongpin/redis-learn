{
 "cells": [
  {
   "cell_type": "markdown",
   "metadata": {},
   "source": [
    "## References\n",
    "\n",
    "- https://medium.com/@sahiljadon/rate-limiting-using-redis-lists-and-sorted-sets-9b42bc192222\n",
    "- https://redislabs.com/redis-best-practices/basic-rate-limiting/\n",
    "- https://www.binpress.com/rate-limiting-with-redis-1/\n",
    "- https://blog.callr.tech/rate-limiting-for-distributed-systems-with-redis-and-lua/\n",
    "- https://brandur.org/redis-cluster\n",
    "- https://engineering.classdojo.com/blog/2015/02/06/rolling-rate-limiter/"
   ]
  },
  {
   "cell_type": "code",
   "execution_count": 1,
   "metadata": {},
   "outputs": [],
   "source": [
    "import redis\n",
    "import time"
   ]
  },
  {
   "cell_type": "code",
   "execution_count": 41,
   "metadata": {},
   "outputs": [],
   "source": [
    "r = redis.Redis(password=123456, decode_responses=True)"
   ]
  },
  {
   "cell_type": "code",
   "execution_count": 42,
   "metadata": {},
   "outputs": [
    {
     "data": {
      "text/plain": [
       "True"
      ]
     },
     "execution_count": 42,
     "metadata": {},
     "output_type": "execute_result"
    }
   ],
   "source": [
    "r.ping()"
   ]
  },
  {
   "cell_type": "code",
   "execution_count": 43,
   "metadata": {},
   "outputs": [
    {
     "data": {
      "text/plain": [
       "True"
      ]
     },
     "execution_count": 43,
     "metadata": {},
     "output_type": "execute_result"
    }
   ],
   "source": [
    "r.set('hello', 'world')"
   ]
  },
  {
   "cell_type": "code",
   "execution_count": 44,
   "metadata": {},
   "outputs": [
    {
     "data": {
      "text/plain": [
       "'world'"
      ]
     },
     "execution_count": 44,
     "metadata": {},
     "output_type": "execute_result"
    }
   ],
   "source": [
    "# Basic lua script.\n",
    "lua = \"return redis.call('GET', KEYS[1])\"\n",
    "r.eval(lua, 1, 'hello')"
   ]
  },
  {
   "cell_type": "markdown",
   "metadata": {},
   "source": [
    "## Allow only N API requests per minute"
   ]
  },
  {
   "cell_type": "code",
   "execution_count": 45,
   "metadata": {},
   "outputs": [],
   "source": [
    "class RateLimiter:\n",
    "    def __init__(self, conn):\n",
    "        self.conn = conn\n",
    "        self.script = '''\n",
    "            if redis.call('EXISTS', KEYS[1]) == 0 then\n",
    "                redis.call('SETEX', KEYS[1], 60, 0)\n",
    "            end\n",
    "            redis.call('INCR', KEYS[1])\n",
    "            if tonumber(redis.call('GET', KEYS[1])) <= 5 then\n",
    "                return 'ok'\n",
    "            else\n",
    "                return 'limit exceeded'\n",
    "            end\n",
    "        '''\n",
    "    \n",
    "    def allow(self, ip):\n",
    "        return self.conn.eval(self.script, 1, ip) == 'ok'"
   ]
  },
  {
   "cell_type": "code",
   "execution_count": 46,
   "metadata": {},
   "outputs": [],
   "source": [
    "ratelimit = RateLimiter(r)"
   ]
  },
  {
   "cell_type": "code",
   "execution_count": 54,
   "metadata": {},
   "outputs": [
    {
     "data": {
      "text/plain": [
       "True"
      ]
     },
     "execution_count": 54,
     "metadata": {},
     "output_type": "execute_result"
    }
   ],
   "source": [
    "ratelimit.allow(1)"
   ]
  },
  {
   "cell_type": "code",
   "execution_count": 55,
   "metadata": {},
   "outputs": [
    {
     "data": {
      "text/plain": [
       "'1'"
      ]
     },
     "execution_count": 55,
     "metadata": {},
     "output_type": "execute_result"
    }
   ],
   "source": [
    "r.get('1')"
   ]
  },
  {
   "cell_type": "markdown",
   "metadata": {},
   "source": [
    "## Allow only N API requests per minute on a running window"
   ]
  },
  {
   "cell_type": "code",
   "execution_count": 117,
   "metadata": {},
   "outputs": [],
   "source": [
    "class RateLimiter:\n",
    "    def __init__(self, conn, n=5):\n",
    "        self.conn = conn\n",
    "        self.lua = self.conn.register_script(f'''\n",
    "            -- ARGV[1]: The current timestamp in seconds.\n",
    "            -- KEYS[1]: The key to rate limit, e.g. clientIP + userID/sessionID\n",
    "            local count = tonumber(redis.call('LLEN', KEYS[1]))\n",
    "            if count < {n} then\n",
    "                redis.call('LPUSH', KEYS[1], ARGV[1])\n",
    "                return 'ok'\n",
    "            else\n",
    "                local time = tonumber(redis.call('LINDEX', KEYS[1], -1))\n",
    "                if ARGV[1] - time < 60 then\n",
    "                    return 'limit exceeded'\n",
    "                else\n",
    "                    -- Push the timestamp to the list.\n",
    "                    redis.call('LPUSH', KEYS[1], ARGV[1])\n",
    "                    \n",
    "                    -- Remove previous item in the list.\n",
    "                    redis.call('RPOP', KEYS[1])\n",
    "                    return 'ok'\n",
    "                end\n",
    "            end\n",
    "        ''')\n",
    "    \n",
    "    def allow(self, ip):\n",
    "        return self.lua(keys=[ip], \n",
    "                        args=[int(time.time())]) == 'ok'"
   ]
  },
  {
   "cell_type": "code",
   "execution_count": 127,
   "metadata": {},
   "outputs": [],
   "source": [
    "ratelimit = RateLimiter(r, 10)"
   ]
  },
  {
   "cell_type": "code",
   "execution_count": 130,
   "metadata": {},
   "outputs": [
    {
     "data": {
      "text/plain": [
       "True"
      ]
     },
     "execution_count": 130,
     "metadata": {},
     "output_type": "execute_result"
    }
   ],
   "source": [
    "ratelimit.allow(1)"
   ]
  },
  {
   "cell_type": "code",
   "execution_count": 131,
   "metadata": {},
   "outputs": [
    {
     "data": {
      "text/plain": [
       "7"
      ]
     },
     "execution_count": 131,
     "metadata": {},
     "output_type": "execute_result"
    }
   ],
   "source": [
    "r.llen('1')"
   ]
  },
  {
   "cell_type": "markdown",
   "metadata": {},
   "source": [
    "## Rate limiting using sorted set"
   ]
  },
  {
   "cell_type": "code",
   "execution_count": 178,
   "metadata": {},
   "outputs": [],
   "source": [
    "class RateLimiter:\n",
    "    def __init__(self, conn, n=5):\n",
    "        self.conn = conn\n",
    "        self.lua = self.conn.register_script(f'''\n",
    "            -- ARGV[1]: The current timestamp in seconds.\n",
    "            -- KEYS[1]: The key to rate limit, e.g. clientIP + userID/sessionID.\n",
    "            \n",
    "            -- Delete all keys that are older than 1 minute ago.\n",
    "            redis.call('ZREMRANGEBYSCORE', KEYS[1], 0, ARGV[1] - 60*1000)\n",
    "            \n",
    "            -- Find the number of remaining tokens left. \n",
    "            if tonumber(redis.call('ZCARD', KEYS[1])) < {n} then\n",
    "                redis.call('ZADD', KEYS[1], ARGV[1], ARGV[1])\n",
    "                return 'ok'\n",
    "            else\n",
    "                return 'limit exceeded'\n",
    "            end\n",
    "        ''')\n",
    "        \n",
    "    def allow(self, ip):\n",
    "        # We need millisecond precisions - else the seconds will be counted as 1 item in the sorted set.\n",
    "        return self.lua(keys=[ip], \n",
    "                        args=[int(time.time() * 1000)]) == 'ok'"
   ]
  },
  {
   "cell_type": "code",
   "execution_count": 209,
   "metadata": {},
   "outputs": [
    {
     "name": "stdout",
     "output_type": "stream",
     "text": [
      "True\n",
      "True\n",
      "True\n",
      "True\n",
      "True\n",
      "False\n"
     ]
    }
   ],
   "source": [
    "ratelimit = RateLimiter(r)\n",
    "for i in range(6):\n",
    "    print(ratelimit.allow('0.0.0.0'))"
   ]
  },
  {
   "cell_type": "code",
   "execution_count": 210,
   "metadata": {},
   "outputs": [
    {
     "data": {
      "text/plain": [
       "[('1566309942739', 1566309942739.0),\n",
       " ('1566309942784', 1566309942784.0),\n",
       " ('1566309942815', 1566309942815.0),\n",
       " ('1566309942845', 1566309942845.0),\n",
       " ('1566309942862', 1566309942862.0)]"
      ]
     },
     "execution_count": 210,
     "metadata": {},
     "output_type": "execute_result"
    }
   ],
   "source": [
    "r.zrange('0.0.0.0', 0, -1, withscores=True)"
   ]
  },
  {
   "cell_type": "code",
   "execution_count": null,
   "metadata": {},
   "outputs": [],
   "source": []
  },
  {
   "cell_type": "code",
   "execution_count": null,
   "metadata": {},
   "outputs": [],
   "source": []
  }
 ],
 "metadata": {
  "kernelspec": {
   "display_name": "Python 3",
   "language": "python",
   "name": "python3"
  },
  "language_info": {
   "codemirror_mode": {
    "name": "ipython",
    "version": 3
   },
   "file_extension": ".py",
   "mimetype": "text/x-python",
   "name": "python",
   "nbconvert_exporter": "python",
   "pygments_lexer": "ipython3",
   "version": "3.7.3"
  }
 },
 "nbformat": 4,
 "nbformat_minor": 2
}
