{
 "cells": [
  {
   "cell_type": "code",
   "execution_count": 11,
   "metadata": {},
   "outputs": [],
   "source": [
    "import redis\n",
    "import re\n",
    "\n",
    "from nltk.corpus import stopwords"
   ]
  },
  {
   "cell_type": "code",
   "execution_count": 13,
   "metadata": {},
   "outputs": [
    {
     "data": {
      "text/plain": [
       "179"
      ]
     },
     "execution_count": 13,
     "metadata": {},
     "output_type": "execute_result"
    }
   ],
   "source": [
    "STOP_WORDS = set(stopwords.words('english'))\n",
    "len(STOP_WORDS)"
   ]
  },
  {
   "cell_type": "code",
   "execution_count": 21,
   "metadata": {},
   "outputs": [],
   "source": [
    "# Take only alphabets, with a minimum length of 2.\n",
    "WORDS_RE = re.compile('[a-z]{2,}')"
   ]
  },
  {
   "cell_type": "code",
   "execution_count": 27,
   "metadata": {},
   "outputs": [],
   "source": [
    "def tokenize(content):\n",
    "    words = set()\n",
    "    for match in WORDS_RE.finditer(content.lower()):\n",
    "        word = match.group().strip(\"'\")\n",
    "        if len(word) >= 2:\n",
    "            words.add(word)\n",
    "    return words - STOP_WORDS"
   ]
  },
  {
   "cell_type": "code",
   "execution_count": 28,
   "metadata": {},
   "outputs": [],
   "source": [
    "def index_document(conn, docid, content):\n",
    "    words = tokenize(content)\n",
    "    \n",
    "    pipeline = conn.pipeline(True)\n",
    "    for word in words:\n",
    "        pipeline.sadd(f'idx:{word}', docid)\n",
    "    return len(pipeline.execute())"
   ]
  },
  {
   "cell_type": "code",
   "execution_count": 29,
   "metadata": {},
   "outputs": [
    {
     "data": {
      "text/plain": [
       "2"
      ]
     },
     "execution_count": 29,
     "metadata": {},
     "output_type": "execute_result"
    }
   ],
   "source": [
    "r = redis.Redis(password='123456', decode_responses=True)\n",
    "index_document(r, 1, 'hello world')"
   ]
  },
  {
   "cell_type": "code",
   "execution_count": 30,
   "metadata": {},
   "outputs": [],
   "source": [
    "def _set_common(conn, method, names, ttl=30, execute=True):\n",
    "    id = str(uuid.uuid4())\n",
    "    pipeline = conn.pipeline(True) if execute else conn\n",
    "    names = [f'idx:{name}' for name in names]\n",
    "    getattr(pipeline, method)(f'idx:{id}', *names)\n",
    "    pipeline.expire(f'idx:{id}', ttl)\n",
    "    if execute:\n",
    "        pipeline.execute()\n",
    "    return id"
   ]
  },
  {
   "cell_type": "code",
   "execution_count": 31,
   "metadata": {},
   "outputs": [],
   "source": [
    "def intersect(conn, items, ttl=30, _execute=True):\n",
    "    return _set_common(conn, 'sinterstore', items, ttl, _execute)"
   ]
  },
  {
   "cell_type": "code",
   "execution_count": 32,
   "metadata": {},
   "outputs": [],
   "source": [
    "def union(conn, items, ttl=30, _execute=True):\n",
    "    return _set_common(conn, 'sunionstore', items, ttl, _execute)"
   ]
  },
  {
   "cell_type": "code",
   "execution_count": 33,
   "metadata": {},
   "outputs": [],
   "source": [
    "def difference(conn, items, ttl=30, _execute=True):\n",
    "    return _set_common(conn, 'sdiffstore', items, ttl, _execute)"
   ]
  },
  {
   "cell_type": "code",
   "execution_count": 34,
   "metadata": {},
   "outputs": [],
   "source": [
    "QUERY_RE = re.compile(\"[+-]?[a-z']{2,}\")\n",
    "\n",
    "def parse(query):\n",
    "    unwanted = set()\n",
    "    all = []\n",
    "    current = set()\n",
    "    \n",
    "    for match in QUERY_RE.finditer(query.lower()):\n",
    "        word = match.group()\n",
    "        prefix = word[:1]\n",
    "        if prefix in '+-':\n",
    "            word = word[1:]\n",
    "        else:\n",
    "            prefix = None\n",
    "        \n",
    "        word = word.strip(\"'\")\n",
    "        if len(word) < 2 or word in STOP_WORDS:\n",
    "            continue\n",
    "            \n",
    "        \n",
    "        if prefix == '-':\n",
    "            unwanted.add(word)\n",
    "            continue\n",
    "        \n",
    "        if current and not prefix:\n",
    "            all.append(list(current))\n",
    "            current = set()\n",
    "        current.add(word)\n",
    "    \n",
    "    if current:\n",
    "        all.append(list(current))\n",
    "    return all, list(unwanted)"
   ]
  },
  {
   "cell_type": "code",
   "execution_count": 35,
   "metadata": {},
   "outputs": [],
   "source": [
    "def search_and_sort(conn, query, id=None, ttl=300, sort='-updated', start=0, num=20):\n",
    "    desc = sort.startswith('-')\n",
    "    sort = sort.lstrip('-')\n",
    "    by = f'kb:doc:*->{sort}'\n",
    "    \n",
    "    # Sort strings alphabetically, sort integers by numbers.\n",
    "    alpha = sort not in ('updated', 'id', 'created')\n",
    "    \n",
    "    if id and not conn.expire(id, ttl):\n",
    "        id = parse_and_search(conn, query, ttl=ttl)\n",
    "    pipeline.scard(f'idx:{id}')\n",
    "    pipeline.sort(f'idx:{id}', by=by, alpha=alpha, desc=desc, start=start, num=num)\n",
    "    \n",
    "    results = pipeline.execute()\n",
    "    return results[0], results[1], id"
   ]
  },
  {
   "cell_type": "code",
   "execution_count": 37,
   "metadata": {},
   "outputs": [],
   "source": [
    "def search_and_zsort(conn, query, id=None, ttl=300, update=1, vote=0, start=0, num=20, desc=True):\n",
    "    if id and not conn.expire(id, ttl):\n",
    "        id = None\n",
    "    \n",
    "    if not id:\n",
    "        id = parse_and_search(conn, query, ttl=ttl)\n",
    "        scored_search = {\n",
    "            id: 0,\n",
    "            'sort:update': update,\n",
    "            'sort:votes': vote\n",
    "        }\n",
    "        id = zintersect(conn, scored_search, ttl)\n",
    "    \n",
    "    pipeline = conn.pipeline(True)\n",
    "    pipeline.zcard(f'idx:{id}')\n",
    "    if desc:\n",
    "        pipeline.zrevrange(f'idx:{id}', start, start + num - 1)\n",
    "    else:\n",
    "        pipeline.zrange(f'idx:{id}', start, start + num - 1)\n",
    "    results = pipeline.execute()\n",
    "    return results[0], results[1], id"
   ]
  },
  {
   "cell_type": "code",
   "execution_count": 38,
   "metadata": {},
   "outputs": [],
   "source": [
    "def _zset_common(conn, method, scores, ttl=300, **kw):\n",
    "    id = str(uuid.uuid4())\n",
    "    execute = kw.pop('_execute', True)\n",
    "    pipeline = conn.pipeline(True) if execute else conn\n",
    "    for key in scores.key():\n",
    "        scores[f'idx:{key}'] = scores.pop(key)\n",
    "    getattr(pipeline, method)(f'idx:{id}', scores, **kw)\n",
    "    pipeline.expire(f'idx:{id}', ttl)\n",
    "    if execute:\n",
    "        pipeline.execute()\n",
    "    return id"
   ]
  },
  {
   "cell_type": "code",
   "execution_count": 39,
   "metadata": {},
   "outputs": [],
   "source": [
    "def zintersect(conn, items, ttl=30, **kw):\n",
    "    return _zset_common(conn, 'zinterstore', dict(items), ttl, **kw)"
   ]
  },
  {
   "cell_type": "code",
   "execution_count": 40,
   "metadata": {},
   "outputs": [],
   "source": [
    "def zunion(conn, items, ttl=30, **kw):\n",
    "    return _zset_common(conn, 'zunionstore', dict(items), ttl, **kw)"
   ]
  },
  {
   "cell_type": "code",
   "execution_count": 41,
   "metadata": {},
   "outputs": [],
   "source": [
    "def string_to_score(string, ignore_case=False):\n",
    "    if ignore_case:\n",
    "        string = string.lower()\n",
    "    pieces = map(ord, string[:6])\n",
    "    while len(pieces) < 6:\n",
    "        pieces.append(-1)\n",
    "        \n",
    "    score = 0\n",
    "    for piece in pieces:\n",
    "        score = score * 257 + piece + 1\n",
    "    return score * 2 + (len(string) > 6)"
   ]
  },
  {
   "cell_type": "code",
   "execution_count": null,
   "metadata": {},
   "outputs": [],
   "source": []
  }
 ],
 "metadata": {
  "kernelspec": {
   "display_name": "Python 3",
   "language": "python",
   "name": "python3"
  },
  "language_info": {
   "codemirror_mode": {
    "name": "ipython",
    "version": 3
   },
   "file_extension": ".py",
   "mimetype": "text/x-python",
   "name": "python",
   "nbconvert_exporter": "python",
   "pygments_lexer": "ipython3",
   "version": "3.7.4"
  }
 },
 "nbformat": 4,
 "nbformat_minor": 2
}
