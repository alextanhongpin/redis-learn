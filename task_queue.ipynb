{
 "cells": [
  {
   "cell_type": "markdown",
   "metadata": {},
   "source": [
    "# Task Queues\n",
    "\n",
    "## Why do we need task queues?\n",
    "\n",
    "When handling web requests, some operations takes longer time than we want to spend. We can defer these operations by putting information about our task to be performed inside a queue, which we process later. This method of deferring work to some task processer is called task queue.\n",
    "\n",
    "## Types of Queues\n",
    "\n",
    "- first-in, first-out (FIFO)\n",
    "- last-in, first-out (LIFO)\n",
    "- priority queues"
   ]
  },
  {
   "cell_type": "code",
   "execution_count": 1,
   "metadata": {},
   "outputs": [],
   "source": [
    "def send_sold_email_via_queue(conn, seller, item, price, buyer):\n",
    "    data = {\n",
    "        'seller_id': seller,\n",
    "        'item_id': item,\n",
    "        'price': price,\n",
    "        'buyer_id': buyer,\n",
    "        'time': time.time()\n",
    "    }\n",
    "    conn.rpush('queue:email', json.dumps(data))"
   ]
  },
  {
   "cell_type": "code",
   "execution_count": 2,
   "metadata": {},
   "outputs": [],
   "source": [
    "def process_sold_email(conn):\n",
    "    while not QUIT:\n",
    "        packed = conn.blpop(['queue:email'], 30)\n",
    "        if not packed:\n",
    "            continue\n",
    "        \n",
    "        to_send = json.loads(packed[1])\n",
    "        try:\n",
    "            fetch_data_and_send_sold_email(to_send)\n",
    "        except EmailSendError as err:\n",
    "            log_error('Failed to send sold email', err, to_send)\n",
    "        else:\n",
    "            log_success('Sent sold email', to_send)"
   ]
  },
  {
   "cell_type": "markdown",
   "metadata": {},
   "source": [
    "## Generic task queue\n",
    "\n",
    "We can implement a more generic task queue, rather than hardcoding the specific implementation."
   ]
  },
  {
   "cell_type": "code",
   "execution_count": 1,
   "metadata": {},
   "outputs": [],
   "source": [
    "def worker_watch_queue(conn, queue, callbacks):\n",
    "    while not QUIT:\n",
    "        packed = conn.blpop([queue], 30)\n",
    "        if not packed:\n",
    "            continue\n",
    "        \n",
    "        name, args = json.loads(packed[1])\n",
    "        if name not in callbacks:\n",
    "            log_error(f'Unknown callback {name}')\n",
    "            continue\n",
    "        callbacks[name](*args)"
   ]
  },
  {
   "cell_type": "code",
   "execution_count": 4,
   "metadata": {},
   "outputs": [],
   "source": [
    "def worker_watch_queues(conn, queues, callbacks):\n",
    "    while not QUIT:\n",
    "        packed = conn.blpop(queues, 30)\n",
    "        if not packed:\n",
    "            continue\n",
    "        \n",
    "        name, args = json.loads(packed[1])\n",
    "        if name not in callbacks:\n",
    "            log_error(f'Unknown callback {name}')\n",
    "            continue\n",
    "        callbacks[name](*args)"
   ]
  },
  {
   "cell_type": "markdown",
   "metadata": {},
   "source": [
    "## Delayed tasks\n",
    "\n",
    "### Implementation\n",
    "\n",
    "- we can include an execution time as part of queue items, and if a worker processes an item with an execution time later than now, it can wait for a brief period and then re-enqueue the item\n",
    "- we can use a zset, since we sort the item by the score (timestamp)\n"
   ]
  },
  {
   "cell_type": "code",
   "execution_count": 3,
   "metadata": {},
   "outputs": [],
   "source": [
    "def execute_later(conn, queue, name, args, delay=0):\n",
    "    identifier = str(uuid.uuid4())\n",
    "    item = json.dumps([identifier, queue, name, args])\n",
    "    if delay > 0:\n",
    "        conn.zadd('delayed:', item, time.time() + delay)\n",
    "    else:\n",
    "        conn.rpush(f'queue:{queue}', item)\n",
    "    return identifier"
   ]
  },
  {
   "cell_type": "code",
   "execution_count": 7,
   "metadata": {},
   "outputs": [],
   "source": [
    "def poll_queue(conn):\n",
    "    while not QUIT:\n",
    "        # Get the first item in the queue.\n",
    "        item = conn.zrange('delayed:', 0, 0, withscores=True)\n",
    "        \n",
    "        # No item or the item is still to be executed in the future.\n",
    "        if not item or item[0][1] > time.time():\n",
    "            time.sleep(0.01)\n",
    "            continue\n",
    "        \n",
    "        # Unpack the item so that we know where it should go.\n",
    "        item = item[0][0]\n",
    "        identifier, queue, function, args = json.loads(item)\n",
    "        \n",
    "        # Get the lock for the item.\n",
    "        locked = acquire_lock(conn, identifier)\n",
    "        if not locked:\n",
    "            # If we couldn't get the lock, skip and retry again.\n",
    "            continue\n",
    "        \n",
    "        # More the item to the proper list queue.\n",
    "        if conn.zrem('delayed:', item):\n",
    "            conn.rpush(f'queue:{queue}', item)\n",
    "            \n",
    "        # Release the lock.\n",
    "        release_lock(conn, identifier, locked)"
   ]
  },
  {
   "cell_type": "code",
   "execution_count": null,
   "metadata": {},
   "outputs": [],
   "source": []
  }
 ],
 "metadata": {
  "kernelspec": {
   "display_name": "Python 3",
   "language": "python",
   "name": "python3"
  },
  "language_info": {
   "codemirror_mode": {
    "name": "ipython",
    "version": 3
   },
   "file_extension": ".py",
   "mimetype": "text/x-python",
   "name": "python",
   "nbconvert_exporter": "python",
   "pygments_lexer": "ipython3",
   "version": "3.7.4"
  }
 },
 "nbformat": 4,
 "nbformat_minor": 2
}
