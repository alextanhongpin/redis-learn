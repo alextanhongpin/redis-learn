{
 "cells": [
  {
   "cell_type": "code",
   "execution_count": 29,
   "metadata": {},
   "outputs": [],
   "source": [
    "import binascii\n",
    "\n",
    "def shard_key(base, key, total_elements, shard_size):\n",
    "    # If the key is a string that looks like an integer, use it directly.\n",
    "    if isinstance(key, (int, float)) or key.isdigit():\n",
    "        shard_id = int(str(key), 10) // shard_size\n",
    "    else:\n",
    "        shards = 2 * total_elements // shard_size\n",
    "        shard_id = binascii.crc32(key.encode('utf-8')) % shards\n",
    "    return f'{base}:{shard_id}'"
   ]
  },
  {
   "cell_type": "code",
   "execution_count": 35,
   "metadata": {},
   "outputs": [
    {
     "data": {
      "text/plain": [
       "'key:10'"
      ]
     },
     "execution_count": 35,
     "metadata": {},
     "output_type": "execute_result"
    }
   ],
   "source": [
    "shard_key('key', 'one', 10_000, 1024)"
   ]
  },
  {
   "cell_type": "code",
   "execution_count": 38,
   "metadata": {},
   "outputs": [
    {
     "data": {
      "text/plain": [
       "'key:3'"
      ]
     },
     "execution_count": 38,
     "metadata": {},
     "output_type": "execute_result"
    }
   ],
   "source": [
    "shard_key('key', 'two', 10_000, 1024)"
   ]
  },
  {
   "cell_type": "markdown",
   "metadata": {},
   "source": [
    "## Sharding HASHes"
   ]
  },
  {
   "cell_type": "code",
   "execution_count": 32,
   "metadata": {},
   "outputs": [],
   "source": [
    "def shard_hset(conn, base, key, value, total_elements, shard_size):\n",
    "    shard = shard_key(base, key, total_elements, shard_size)\n",
    "    return conn.hset(shard, key, value)"
   ]
  },
  {
   "cell_type": "code",
   "execution_count": 33,
   "metadata": {},
   "outputs": [],
   "source": [
    "def shard_hget(conn, base, key, total_elements, shard_size):\n",
    "    shard = shard_key(base, key, total_elements, shard_size)\n",
    "    return conn.hget(shard, key)"
   ]
  },
  {
   "cell_type": "code",
   "execution_count": 37,
   "metadata": {},
   "outputs": [],
   "source": [
    "# Sharded ip lookup.\n",
    "\n",
    "TOTAL_SIZE = 320_000\n",
    "SHARD_SIZE = 1024\n",
    "\n",
    "def import_cities_to_redis(conn, filename):\n",
    "    for row in csv.reader(open(filename)):\n",
    "        # ...\n",
    "        shard_hset(conn, 'cityid2city:', city_id, json.dumps([city, region, country]),\n",
    "                   TOTAL_SIZE, SHARD_SIZE)\n",
    "\n",
    "def find_city_by_ip(conn, ip_address):\n",
    "    # ...\n",
    "    data = shard_hget(conn, 'cityid2city:', city_id, TOTAL_SIZE, SHARD_SIZE)\n",
    "    return json.loads(data)"
   ]
  },
  {
   "cell_type": "markdown",
   "metadata": {},
   "source": [
    "## Sharding SETs"
   ]
  },
  {
   "cell_type": "code",
   "execution_count": 39,
   "metadata": {},
   "outputs": [],
   "source": [
    "def shard_sadd(conn, base, member, total_elements, shard_size):\n",
    "    shard = shard_key(base, 'x' + str(member), total_elements, shard_size)\n",
    "    return conn.sadd(shard, member)"
   ]
  },
  {
   "cell_type": "code",
   "execution_count": 42,
   "metadata": {},
   "outputs": [],
   "source": [
    "# Typical shard size for the intset encoding for SETs.\n",
    "SHARD_SIZE = 512\n",
    "\n",
    "def count_visit(conn, session_id):\n",
    "    today = date.today()\n",
    "    key = f'unique:{today.isoformat()}'\n",
    "    \n",
    "    # Fetch or calculate the expected number of unique views today.\n",
    "    expected = get_expected(conn, key, today)\n",
    "    \n",
    "    # Calculate the 56-bit ID for this 128-bit UUID.\n",
    "    id = int(session_id.replace('-', '')[:15], 16)\n",
    "    if shard_sadd(conn, key, id, expected, SHARD_SIZE):\n",
    "        conn.incr(key)"
   ]
  },
  {
   "cell_type": "code",
   "execution_count": 44,
   "metadata": {},
   "outputs": [],
   "source": [
    "DAILY_EXPECTED = 1_000_000\n",
    "EXPECTED = {}\n",
    "\n",
    "def get_expected(conn, key, today):\n",
    "    if key in EXPECTED:\n",
    "        return EXPECTED[key]\n",
    "    \n",
    "    exkey = key + ':expected'\n",
    "    expected = conn.get(exkey)\n",
    "    \n",
    "    if not expected:\n",
    "        yesterday = (today - timedelta(days=1)).isoformat()\n",
    "        expected = conn.get(f'unique:{yesterday}')\n",
    "        expected = int(expected or DAILY_EXPECTED)\n",
    "        \n",
    "        # Add 50% to yesterday's count, and round up to the next even power\n",
    "        # of 2, under the assumption that view count today should be at least\n",
    "        # 50% better than yesterday.\n",
    "        expected = 2 ** int(math.ceil(math.log(expected * 1.5, 2)))\n",
    "        if not conn.setnx(exkey, expected):\n",
    "            expected = conn.get(exkey)\n",
    "    EXPECTED[key] = int(expected)\n",
    "    return EXPECTED[key]"
   ]
  },
  {
   "cell_type": "code",
   "execution_count": null,
   "metadata": {},
   "outputs": [],
   "source": []
  }
 ],
 "metadata": {
  "kernelspec": {
   "display_name": "Python 3",
   "language": "python",
   "name": "python3"
  },
  "language_info": {
   "codemirror_mode": {
    "name": "ipython",
    "version": 3
   },
   "file_extension": ".py",
   "mimetype": "text/x-python",
   "name": "python",
   "nbconvert_exporter": "python",
   "pygments_lexer": "ipython3",
   "version": "3.7.3"
  }
 },
 "nbformat": 4,
 "nbformat_minor": 2
}
