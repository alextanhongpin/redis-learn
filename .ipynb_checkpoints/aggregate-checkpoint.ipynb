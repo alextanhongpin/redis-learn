{
 "cells": [
  {
   "cell_type": "code",
   "execution_count": 2,
   "metadata": {},
   "outputs": [],
   "source": [
    "from collections import defaultdict"
   ]
  },
  {
   "cell_type": "code",
   "execution_count": 10,
   "metadata": {},
   "outputs": [],
   "source": [
    "aggregates = defaultdict(lambda: defaultdict(int))\n",
    "\n",
    "def daily_country_aggregate(conn, line):\n",
    "    if line:\n",
    "        line = line.split()\n",
    "        ip = line[0]\n",
    "        day = line[1]\n",
    "        country = find_city_by_ip_local(ip)[2]\n",
    "        aggregates[day][country] += 1\n",
    "        return\n",
    "    \n",
    "    for day, aggregate in aggregates.items():\n",
    "        conn.zadd(f'daily:country:{day}', **aggregates)\n",
    "        del aggregates[day]"
   ]
  },
  {
   "cell_type": "code",
   "execution_count": 11,
   "metadata": {},
   "outputs": [],
   "source": [
    "def copy_logs_to_redis(conn, path, channel, count=10, limit=2**30, quit_when_done=True):\n",
    "    bytes_in_redis = 0\n",
    "    waiting = deque()\n",
    "    create_chat(conn, 'source', map(str, range(count)), '', channel)\n",
    "    count = str(count)\n",
    "    \n",
    "    for logfile in sorted(os.listdir(path)):\n",
    "        full_path = os.path.join(path, logfile)\n",
    "        fsize = os.stat(full_path).st_size\n",
    "        while bytes_in_redis + fsize > limit:\n",
    "            cleaned = _clean(conn, channel, waiting, count)\n",
    "            if cleaned:\n",
    "                bytes_in_redis -= cleaned\n",
    "            else:\n",
    "                time.sleep(0.25)\n",
    "        with open(full_path, 'rb') as inp:\n",
    "            block = ' '\n",
    "            while block:\n",
    "                block = inp.read(2 ** 17)\n",
    "                conn.append(channel + logfile, block)\n",
    "        send_message(conn, channel, 'source', logfile)\n",
    "    if quit_when_done:\n",
    "        send_message(conn, channel, 'source', ':done')\n",
    "        \n",
    "    while waiting:\n",
    "        cleaned = _clean(conn, channel, waiting, count)\n",
    "        if cleaned:\n",
    "            bytes_in_redis -= cleaned\n",
    "        else:\n",
    "            time.sleep(0.25)"
   ]
  },
  {
   "cell_type": "code",
   "execution_count": 12,
   "metadata": {},
   "outputs": [],
   "source": [
    "def _clean(conn, channel, waiting, count):\n",
    "    if not waiting:\n",
    "        return 0\n",
    "    w0 = waiting[0][0]\n",
    "    \n",
    "    if conn.get(channel + w0 + ':done') == count:\n",
    "        conn.delete(channel + w0, channel + w0 + ':done')\n",
    "        return waiting.popleft()[1]\n",
    "    return 0"
   ]
  },
  {
   "cell_type": "code",
   "execution_count": 13,
   "metadata": {},
   "outputs": [],
   "source": [
    "def process_logs_from_redis(conn, id, callback):\n",
    "    while 1:\n",
    "        fdata = fetch_pending_messages(conn, id)\n",
    "        for ch, mdata in fdata:\n",
    "            for message in mdata:\n",
    "                logfile = message['message']\n",
    "                \n",
    "                # No more log files.\n",
    "                if logfile == ':done':\n",
    "                    return\n",
    "                if not logfile:\n",
    "                    continue\n",
    "                \n",
    "                block_read = readblocks\n",
    "                # Choose a block reader.\n",
    "                if logfile.endswith('.gz'):\n",
    "                    block_reader = readblocks_gz\n",
    "                \n",
    "                for line in readlines(conn, ch+logfile, block_reader):\n",
    "                    callback(conn, line)\n",
    "                \n",
    "                # Force a flush on our aggregate cache.\n",
    "                callback(conn, None)\n",
    "                \n",
    "                # Report that we have finished with the log.\n",
    "                conn.incr(ch + logfile + ':done')\n",
    "        if not fdata:\n",
    "            time.sleep(0.1)"
   ]
  },
  {
   "cell_type": "code",
   "execution_count": 14,
   "metadata": {},
   "outputs": [],
   "source": [
    "def readlines(conn, key, rblocks):\n",
    "    out = ''\n",
    "    for block in rblocks(conn, key):\n",
    "        out += block\n",
    "        posn = out.rfind('\\n')\n",
    "        if posn >= 0:\n",
    "            for line in out[:posn].split('\\n'):\n",
    "                yield line + '\\n'\n",
    "            out = out[posn+1:]\n",
    "        if not block:\n",
    "            yield out\n",
    "            break"
   ]
  },
  {
   "cell_type": "code",
   "execution_count": 15,
   "metadata": {},
   "outputs": [],
   "source": [
    "def readblocks(conn, key, blocksize=2**17):\n",
    "    lb = blocksize\n",
    "    pos = 0\n",
    "    # Keep fetching more data as long as we don't have a partial read.\n",
    "    while lb == blocksize:\n",
    "        # Fetch the block.\n",
    "        block = conn.substr(key, pos, pos+blocksize-1)\n",
    "\n",
    "        yield block\n",
    "\n",
    "        # Prepare for the next pass.\n",
    "        lb = len(block)\n",
    "        pos += lb\n",
    "    yield ''"
   ]
  },
  {
   "cell_type": "code",
   "execution_count": 16,
   "metadata": {},
   "outputs": [],
   "source": [
    "def readblocks_gz(conn, key):\n",
    "    inp = ''\n",
    "    decoder = None\n",
    "    for block in readblocks(conn, key, 2 ** 17):\n",
    "        if not decoder:\n",
    "            inp += block\n",
    "            try:\n",
    "                if inp[:3] != '\\x1f\\x8b\\x08':\n",
    "                    raise IOError('invalid gzip daa')\n",
    "                i = 10\n",
    "                flag = ord(inp[3])\n",
    "                \n",
    "                if flag & 4: \n",
    "                    i += 2 + ord(inp[i]) + 256 * ord(inp[i+1])\n",
    "                if flag & 8:\n",
    "                    i = inp.index('\\0', i) + 1\n",
    "                if flag & 16:\n",
    "                    i = inp.index('\\0', i) + 1\n",
    "                if flag & 2:\n",
    "                    i += 2\n",
    "                    \n",
    "                if i > len(inp):\n",
    "                    raise IndexError('not enough data')\n",
    "            except (IndexError, ValueError):\n",
    "                continue\n",
    "            else:\n",
    "                block = inp[i:]\n",
    "                inp = None\n",
    "                decoder = zlib.decompressobj(-zlib.MAX_WBITS)\n",
    "                if not block: \n",
    "                    continue\n",
    "    if not block:\n",
    "        yield decoder.flush()\n",
    "        break\n",
    "    yield decoder.decompress(block)"
   ]
  },
  {
   "cell_type": "code",
   "execution_count": null,
   "metadata": {},
   "outputs": [],
   "source": []
  }
 ],
 "metadata": {
  "kernelspec": {
   "display_name": "Python 3",
   "language": "python",
   "name": "python3"
  },
  "language_info": {
   "codemirror_mode": {
    "name": "ipython",
    "version": 3
   },
   "file_extension": ".py",
   "mimetype": "text/x-python",
   "name": "python",
   "nbconvert_exporter": "python",
   "pygments_lexer": "ipython3",
   "version": "3.7.4"
  }
 },
 "nbformat": 4,
 "nbformat_minor": 2
}
