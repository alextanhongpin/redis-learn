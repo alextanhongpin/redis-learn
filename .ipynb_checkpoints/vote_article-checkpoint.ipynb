{
 "cells": [
  {
   "cell_type": "code",
   "execution_count": 3,
   "metadata": {},
   "outputs": [],
   "source": [
    "ONE_WEEK_IN_SECONDS = 7 * 86_400\n",
    "VOTE_SCORE = 432\n",
    "\n",
    "def article_vote(conn, user, article):\n",
    "    cutoff = time.time() - ONE_WEEK_IN_SECONDS\n",
    "    if conn.zscore('time:', article) < cutoff:\n",
    "        return\n",
    "    \n",
    "    article_id = article.partition(':')[-1]\n",
    "    if conn.sadd('voted:' + article_id, user):\n",
    "        conn.zincrby('score:', article, VOTE_SCORE)\n",
    "        conn.hincrby(article, 'votes', 1)"
   ]
  },
  {
   "cell_type": "code",
   "execution_count": 2,
   "metadata": {},
   "outputs": [],
   "source": [
    "def post_article(conn, user, title, link):\n",
    "    article_id = str(conn.incr('article:'))\n",
    "    voted = 'voted:' + article_id\n",
    "    conn.sadd(voted, user)\n",
    "    conn.expire(voted, ONE_WEEK_IN_SECONDS)\n",
    "    \n",
    "    now = time.time()\n",
    "    article = 'article:' + article_id\n",
    "    conn.hmset(article, {\n",
    "        'title': title,\n",
    "        'link': link,\n",
    "        'poster': user,\n",
    "        'time': now,\n",
    "        'votes': 1\n",
    "    })\n",
    "    conn.zadd('score:', article, now + VOTE_SCORE)\n",
    "    conn.zadd('time:', article, now)\n",
    "    return article_id"
   ]
  },
  {
   "cell_type": "code",
   "execution_count": 4,
   "metadata": {},
   "outputs": [],
   "source": [
    "ARTICLES_PER_PAGE = 25\n",
    "\n",
    "def get_articles(conn, page, order='score:'):\n",
    "    start = (page - 1) * ARTICLES_PER_PAGE\n",
    "    end = start + ARTICLES_PER_PAGE - 1\n",
    "    \n",
    "    ids = conn.zrevrange(order, start, end)\n",
    "    articles = []\n",
    "    for id in ids:\n",
    "        article_data = conn.hgetall(id)\n",
    "        articles_data['id'] = id\n",
    "        articles.append(article_data)\n",
    "    return articles"
   ]
  },
  {
   "cell_type": "code",
   "execution_count": 5,
   "metadata": {},
   "outputs": [],
   "source": [
    "def add_remove_groups(conn, article_id, to_add=[], to_remove=[]):\n",
    "    article = 'article:' + article_id\n",
    "    for group in to_add:\n",
    "        conn.sadd('group:' + group, article)\n",
    "    for group in to_remove:\n",
    "        conn.srem('group:' + group, article)"
   ]
  },
  {
   "cell_type": "code",
   "execution_count": 6,
   "metadata": {},
   "outputs": [],
   "source": [
    "def get_group_articles(conn, group, page, order='score:'):\n",
    "    key = order + group\n",
    "    if not conn.exists(key):\n",
    "        conn.zinterstore(key, ['group:' + group, order], aggregate='max')\n",
    "        conn.expire(key, 60)\n",
    "    return get_articles(conn, page, key)"
   ]
  },
  {
   "cell_type": "code",
   "execution_count": null,
   "metadata": {},
   "outputs": [],
   "source": []
  }
 ],
 "metadata": {
  "kernelspec": {
   "display_name": "Python 3",
   "language": "python",
   "name": "python3"
  },
  "language_info": {
   "codemirror_mode": {
    "name": "ipython",
    "version": 3
   },
   "file_extension": ".py",
   "mimetype": "text/x-python",
   "name": "python",
   "nbconvert_exporter": "python",
   "pygments_lexer": "ipython3",
   "version": "3.7.3"
  }
 },
 "nbformat": 4,
 "nbformat_minor": 2
}
