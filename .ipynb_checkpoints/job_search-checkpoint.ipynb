{
 "cells": [
  {
   "cell_type": "markdown",
   "metadata": {},
   "source": [
    "# Job Search\n",
    "\n",
    "How do we create a job search using redis?\n",
    "\n",
    "- jobs can be stored in sets\n",
    "- each job will have the skills required as the member\n",
    "- candidate skills can be added to sets\n",
    "- the difference between the job and candidate sets will determine if the candidate is a match\n",
    "- if the difference is zero, it means the candidate has all the skills required\n",
    "- this requires us to check the candidate against all jobs, which might not scale"
   ]
  },
  {
   "cell_type": "code",
   "execution_count": 3,
   "metadata": {},
   "outputs": [],
   "source": [
    "def add_job(conn, job_id, required_skills):\n",
    "    conn.sadd(f'job:{job_id}', *required_skills)"
   ]
  },
  {
   "cell_type": "code",
   "execution_count": null,
   "metadata": {},
   "outputs": [],
   "source": [
    "def is_qualified(conn, job_id, candidate_skills):\n",
    "    temp = str(uuid.uuid4())\n",
    "    pipeline = conn.pipeline(True)\n",
    "    pipeline.sadd(temp, *candidate_skills)\n",
    "    pipeline.expire(temp, 5)\n",
    "    pipeline.sdiff(f'job:{job_id}', temp)\n",
    "    return not pipeline.execute()[-1]"
   ]
  },
  {
   "cell_type": "markdown",
   "metadata": {},
   "source": [
    "## Approaching the problem like search\n",
    "\n",
    "- we can use inverted index to improve the performance\n",
    "- we create a SET for each skill, and the members are the jobs id\n",
    "- we use a ZSET to store the required skills for each job\n",
    "\n",
    "How does the search works?\n",
    "\n",
    "- we have a SET for the candidate's skills\n",
    "- we find the score for each job\n",
    "- we substract each job score from the total score necessary\n",
    "- any job with a ZSET score of 0 is a job that the candidate has all of the skills for"
   ]
  },
  {
   "cell_type": "code",
   "execution_count": 5,
   "metadata": {},
   "outputs": [],
   "source": [
    "def index_job(conn, job_id, skills):\n",
    "    pipeline = conn.pipeline(True)\n",
    "    for skill in skills:\n",
    "        pipeline.sadd(f'idx:skill:{skill}', job_id)\n",
    "    pipeline.execute()"
   ]
  },
  {
   "cell_type": "code",
   "execution_count": 6,
   "metadata": {},
   "outputs": [],
   "source": [
    "def find_jobs(conn, candidate_skills):\n",
    "    skills = {}\n",
    "    for skill in set(candidate_skills):\n",
    "        skills['skill:' + skill] = 1\n",
    "    \n",
    "    job_scores = zunion(conn, skills)\n",
    "    \n",
    "    final_result = zintersect(conn, {job_scores: -1, 'jobs:req': 1})\n",
    "    return conn.zrangebyscore(f'idx:{final_result}', 0, 0)"
   ]
  },
  {
   "cell_type": "code",
   "execution_count": null,
   "metadata": {},
   "outputs": [],
   "source": []
  }
 ],
 "metadata": {
  "kernelspec": {
   "display_name": "Python 3",
   "language": "python",
   "name": "python3"
  },
  "language_info": {
   "codemirror_mode": {
    "name": "ipython",
    "version": 3
   },
   "file_extension": ".py",
   "mimetype": "text/x-python",
   "name": "python",
   "nbconvert_exporter": "python",
   "pygments_lexer": "ipython3",
   "version": "3.7.3"
  }
 },
 "nbformat": 4,
 "nbformat_minor": 2
}
