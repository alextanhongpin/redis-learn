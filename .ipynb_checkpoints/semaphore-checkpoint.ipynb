{
 "cells": [
  {
   "cell_type": "markdown",
   "metadata": {},
   "source": [
    "# Semaphores\n",
    "\n",
    "## What is semaphore?\n",
    "\n",
    "A semaphore is a variable or abstract data type that is used to control access to common resources by multiple processes in a concurrent system.\n",
    "\n",
    "## Visualization\n",
    "\n",
    "Think of semaphores as a number of units for a particular resources available that be consumed to perform operations.\n",
    "\n",
    "We start with a fix number of units, everytime we want to access the resources, we decrement the number of available units. If there are no more units available, we need to wait for previous operations to be completed which will increment back the number of units.\n",
    "\n",
    "## Types of Semaphores\n",
    "\n",
    "- binary semaphores: are restricted to the values 0 and 1 to represent locked/unlocked or available/unavailable pairs). Can be used to implement locks\n",
    "- counting semaphores: allows an arbitrary resource count"
   ]
  },
  {
   "cell_type": "markdown",
   "metadata": {},
   "source": [
    "## Implementation in Redis\n",
    "\n",
    "How do we implement semaphores in redis?\n",
    "\n",
    "## DataType\n",
    "\n",
    "Sorted Sets\n",
    "\n",
    "## Approach\n",
    "\n",
    "We can use sorted sets to hold the number of units available. \n",
    "- Every time we attempt to acquire a semaphore, we just need to add a unique identifier with the present timestamp as the score to the sorted sets. \n",
    "- Then we get the rank of the identifier that we inserted. This is akin to getting the index of an item in an array.\n",
    "- If the rank (index) is less than the limit, then we have acquired a semaphore.\n",
    "- Else, we have exceeded the limit. We should remove the identifier that we have added earlier."
   ]
  },
  {
   "cell_type": "code",
   "execution_count": 2,
   "metadata": {},
   "outputs": [],
   "source": [
    "def acquire_semaphore(conn, semname, limit, timeout=10):\n",
    "    identifier = str(uuid.uuid4())\n",
    "    now = time.time()\n",
    "    \n",
    "    pipeline = conn.pipeline(True)\n",
    "    pipeline.zremrangebyscore(semname, '-inf', now - timeout)\n",
    "    pipeline.zadd(semname, identifier, now)\n",
    "    pipeline.zrank(semname, identifier)\n",
    "    if pipeline.execute()[-1] < limit:\n",
    "        return identifier\n",
    "\n",
    "    # Discard the identifier when we fail to get our semaphore.\n",
    "    conn.zrem(semname, identifier)\n",
    "    return None"
   ]
  },
  {
   "cell_type": "code",
   "execution_count": 3,
   "metadata": {},
   "outputs": [],
   "source": [
    "def release_semaphore(conn, semname, identifier):\n",
    "    return conn.zrem(semname, identifier)"
   ]
  },
  {
   "cell_type": "markdown",
   "metadata": {},
   "source": [
    "## Implementing fair semaphore\n",
    "\n",
    "The above implementation relies on the timestamp. The problem with that is when we have two systems with different system clocks (say System A runs 10 ms faster than System B), the ones with the slower system clocks can steal the semaphore from clients on systems with faster clocks.\n",
    "\n",
    "A semaphore is considered unfair anytime we have a lock or a semaphore where such a slight difference in the system clock can drastically affect who can get the lock.\n",
    "\n",
    "However, not all cases requires the kind of fairness. The key is to understand what scenarios require a fair semaphore.\n",
    "\n",
    "## Scenario where fairness is not needed\n",
    "\n",
    "If you have N identical worker threads, it doesn't matter which one gets a task to schedule.\n",
    "\n",
    "## Scenario where fairness is needed\n",
    "\n",
    "If you have N task queues, you don't want one queue to be waiting forever and never acquiring the lock.\n",
    "\n",
    "\n",
    "## Implementing a fair semaphore\n",
    "\n",
    "- Instead of using system clock timestamp, we can use an auto-incremented counter\n",
    "- The counter creates a steadily increasing timer-like mechanism that ensures that whoever incremented the counter first should be the one to get the semaphore.\n",
    "- We the enforce our requirements that clients that wants the semaphore who get the counter first also get the semaphore key by using an \"owner\" zset with counter-produced value as the score, checking our identifier's rank in the new ZSET to determine which client got the semaphore."
   ]
  },
  {
   "cell_type": "code",
   "execution_count": 5,
   "metadata": {},
   "outputs": [],
   "source": [
    "def acquire_fair_semaphore(conn, semname, limit, timeout=10):\n",
    "    identifier = str(uuid.uuid4())\n",
    "    czset = f'{semname}:owner'\n",
    "    ctr = f'{semname}:counter'\n",
    "    \n",
    "    now = time.time()\n",
    "    \n",
    "    pipeline = conn.pipeline(True)\n",
    "    pipeline.zremrangebyscore(semname, '-inf', now - timeout)\n",
    "    pipeline.zinterstore(czset, {czset: 1, semname: 0})\n",
    "    \n",
    "    pipeline.incr(ctr)\n",
    "    counter = pipeline.execute()[-1]\n",
    "    \n",
    "    pipeline.zadd(semname, identifier, now)\n",
    "    pipeline.zadd(czset, identifier, counter)\n",
    "    \n",
    "    pipeline.zrank(czset, identifier)\n",
    "    # If we get the semaphore, return the identifier.\n",
    "    if pipeline.execute()[-1] < limit:\n",
    "        return identifier\n",
    "    \n",
    "    # Else, we clear the data that we set.\n",
    "    pipeline.zrem(semname, identifier)\n",
    "    pipeline.zrem(czset, identifier)\n",
    "    pipeline.execute()\n",
    "    return None"
   ]
  },
  {
   "cell_type": "code",
   "execution_count": 9,
   "metadata": {},
   "outputs": [],
   "source": [
    "def release_fair_semaphore(conn, semname, identifier):\n",
    "    pipeline = conn.pipeline(True)\n",
    "    pipeline.zrem(semname, identifier)\n",
    "    pipeline.zrem(f'{semname}:owner', identifier)\n",
    "    \n",
    "    # Returns True if the semaphore was properly released\n",
    "    # or False if it had timed out.\n",
    "    return pipeline.execute()[0]"
   ]
  },
  {
   "cell_type": "markdown",
   "metadata": {},
   "source": [
    "## Refreshing Semaphore\n",
    "\n",
    "We set the default timeout to be 10 seconds, but sometimes we want to extend the timeout of the semaphore.\n",
    "\n",
    "We can implement a `refresh_semaphore()` method to increase the duration of the semaphore, as long as the semaphore has not yet timed out yet."
   ]
  },
  {
   "cell_type": "code",
   "execution_count": 8,
   "metadata": {},
   "outputs": [],
   "source": [
    "def refresh_fair_semaphore(conn, semname, identifier):\n",
    "    if conn.zadd(semname, identifier, time.time()):\n",
    "        # We lost our semaphore, report back.\n",
    "        release_fair_semaphore(conn, semname, identifier)\n",
    "        return False\n",
    "    # We still have our semaphore.\n",
    "    return True"
   ]
  },
  {
   "cell_type": "code",
   "execution_count": 10,
   "metadata": {},
   "outputs": [],
   "source": [
    "def acquire_semaphore_with_lock(conn, semname, limit, timeout=10):\n",
    "    identifier = acquire_lock(conn, semname, acquire_timeout=0.01)\n",
    "    if identifier:\n",
    "        try: \n",
    "            return acquire_fair_semaphore(conn, semname, limit, timeout)\n",
    "        finally:\n",
    "            release_lock(conn, semname, identifier)"
   ]
  },
  {
   "cell_type": "code",
   "execution_count": null,
   "metadata": {},
   "outputs": [],
   "source": []
  }
 ],
 "metadata": {
  "kernelspec": {
   "display_name": "Python 3",
   "language": "python",
   "name": "python3"
  },
  "language_info": {
   "codemirror_mode": {
    "name": "ipython",
    "version": 3
   },
   "file_extension": ".py",
   "mimetype": "text/x-python",
   "name": "python",
   "nbconvert_exporter": "python",
   "pygments_lexer": "ipython3",
   "version": "3.7.4"
  }
 },
 "nbformat": 4,
 "nbformat_minor": 2
}
