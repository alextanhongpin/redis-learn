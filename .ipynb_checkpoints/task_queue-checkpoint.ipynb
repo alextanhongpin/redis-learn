{
 "cells": [
  {
   "cell_type": "markdown",
   "metadata": {},
   "source": [
    "# Task Queues\n",
    "\n",
    "## Why do we need task queues?\n",
    "\n",
    "When handling web requests, some operations takes longer time than we want to spend. We can defer these operations by putting information about our task to be performed inside a queue, which we process later. This method of deferring work to some task processer is called task queue.\n",
    "\n",
    "## Types of Queues\n",
    "\n",
    "- first-in, first-out (FIFO)\n",
    "- last-in, first-out (LIFO)\n",
    "- priority queues"
   ]
  },
  {
   "cell_type": "code",
   "execution_count": 1,
   "metadata": {},
   "outputs": [],
   "source": [
    "def send_sold_email_via_queue(conn, seller, item, price, buyer):\n",
    "    data = {\n",
    "        'seller_id': seller,\n",
    "        'item_id': item,\n",
    "        'price': price,\n",
    "        'buyer_id': buyer,\n",
    "        'time': time.time()\n",
    "    }\n",
    "    conn.rpush('queue:email', json.dumps(data))"
   ]
  },
  {
   "cell_type": "code",
   "execution_count": 2,
   "metadata": {},
   "outputs": [],
   "source": [
    "def process_sold_email(conn):\n",
    "    while not QUIT:\n",
    "        packed = conn.blpop(['queue:email'], 30)\n",
    "        if not packed:\n",
    "            continue\n",
    "        \n",
    "        to_send = json.loads(packed[1])\n",
    "        try:\n",
    "            fetch_data_and_send_sold_email(to_send)\n",
    "        except EmailSendError as err:\n",
    "            log_error('Failed to send sold email', err, to_send)\n",
    "        else:\n",
    "            log_success('Sent sold email', to_send)"
   ]
  },
  {
   "cell_type": "code",
   "execution_count": null,
   "metadata": {},
   "outputs": [],
   "source": []
  }
 ],
 "metadata": {
  "kernelspec": {
   "display_name": "Python 3",
   "language": "python",
   "name": "python3"
  },
  "language_info": {
   "codemirror_mode": {
    "name": "ipython",
    "version": 3
   },
   "file_extension": ".py",
   "mimetype": "text/x-python",
   "name": "python",
   "nbconvert_exporter": "python",
   "pygments_lexer": "ipython3",
   "version": "3.7.4"
  }
 },
 "nbformat": 4,
 "nbformat_minor": 2
}
