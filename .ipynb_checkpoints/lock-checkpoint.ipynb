{
 "cells": [
  {
   "cell_type": "code",
   "execution_count": 1,
   "metadata": {},
   "outputs": [],
   "source": [
    "# https://redis.io/topics/distlock\n",
    "\n",
    "def acquire_lock(conn, lockname, acquire_timeout=10):\n",
    "    identifier = str(uuid.uuid4())\n",
    "    \n",
    "    end = time.time() + acquire_timeout\n",
    "    while time.time() < end:\n",
    "        # Set the value only if it does not exist.\n",
    "        if conn.setnx(f'lock:{lockname}', identifier):\n",
    "            return identifier\n",
    "        time.sleep(0.001)\n",
    "    return False"
   ]
  },
  {
   "cell_type": "code",
   "execution_count": 2,
   "metadata": {},
   "outputs": [],
   "source": [
    "def purchase_item_with_lock(conn, buyerid, itemid, sellerid):\n",
    "    buyer = f'users:{buyerid}'\n",
    "    seller = f'users:{sellerid}'\n",
    "    item = f'{itemid}.{sellerid}'\n",
    "    inventory = f'inventory:{buyerid}'\n",
    "    end = time.time() + 30\n",
    "    \n",
    "    locked = acquire_lock(conn, market)\n",
    "    if not locked:\n",
    "        return False\n",
    "    \n",
    "    pipe = conn.pipeline(True)\n",
    "    try:\n",
    "        while time.time() < end:\n",
    "            try:\n",
    "                pipe.watch(buyer)\n",
    "                pipe.zscore(f'market:{item}')\n",
    "                pipe.hget(buyer, 'funds')\n",
    "                price, funds = pipe.execute()\n",
    "                if price is None or price > funds:\n",
    "                    pipe.unwatch()\n",
    "                    return None\n",
    "                \n",
    "                pipe.hincrby(seller, int(price))\n",
    "                pipe.hincrby(buyerid, int(-price))\n",
    "                pipe.sadd(inventory, itemid)\n",
    "                pipe.zrem(f'market:{item}')\n",
    "                pipe.execute()\n",
    "                return True\n",
    "            except redis.exceptions.WatchError:\n",
    "                pass\n",
    "    finally:\n",
    "        release_lock(conn, market, locked)"
   ]
  },
  {
   "cell_type": "code",
   "execution_count": 3,
   "metadata": {},
   "outputs": [],
   "source": [
    "def release_lock(conn, lockname, identifier):\n",
    "    pipe = conn.pipeline(True)\n",
    "    lockname = f'lock:{lockname}'\n",
    "    \n",
    "    while True:\n",
    "        try:\n",
    "            pipe.watch(lockname)\n",
    "            if pipe.get(lockname) == identifier:\n",
    "                pipe.multi()\n",
    "                pipe.delete(lockname)\n",
    "                pipe.execute()\n",
    "                return True\n",
    "            pipe.unwatch()\n",
    "            break\n",
    "        except redis.exceptions.WatchError:\n",
    "            pass\n",
    "    return False"
   ]
  },
  {
   "cell_type": "code",
   "execution_count": 4,
   "metadata": {},
   "outputs": [],
   "source": [
    "# acquire_lock does not handle the cases where a lock_holder crashes without releasing the lock,\n",
    "# or when a lock holder fails and holds the lock forever. To handle the crash/failure cases,\n",
    "# we add a timeout to the lock.\n",
    "def acquire_lock_with_timeout(conn, lockname, acquire_timeout=10, lock_timeout=10):\n",
    "    identifier = str(uuid.uuid4())\n",
    "    lock_timeout = int(math.ceil(lock_timeout))\n",
    "    \n",
    "    end = time.time() + acquire_timeout\n",
    "    while time.time() < end:\n",
    "        if conn.setnx(lockname, identifier):\n",
    "            conn.expire(lockname, lock_timeout)\n",
    "            return identifier\n",
    "        elif not conn.ttl(lockname):\n",
    "            # Check and update the expiration time as necessary.\n",
    "            conn.expire(lockname, lock_timeout)\n",
    "        time.sleep(0.001)\n",
    "    return False"
   ]
  },
  {
   "cell_type": "code",
   "execution_count": null,
   "metadata": {},
   "outputs": [],
   "source": []
  }
 ],
 "metadata": {
  "kernelspec": {
   "display_name": "Python 3",
   "language": "python",
   "name": "python3"
  },
  "language_info": {
   "codemirror_mode": {
    "name": "ipython",
    "version": 3
   },
   "file_extension": ".py",
   "mimetype": "text/x-python",
   "name": "python",
   "nbconvert_exporter": "python",
   "pygments_lexer": "ipython3",
   "version": "3.7.4"
  }
 },
 "nbformat": 4,
 "nbformat_minor": 2
}
