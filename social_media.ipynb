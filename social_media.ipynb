{
 "cells": [
  {
   "cell_type": "code",
   "execution_count": null,
   "metadata": {},
   "outputs": [],
   "source": [
    "def create_user(conn, login, name):\n",
    "    llogin = login.lower()\n",
    "    lock = acquire_lock_with_timeout(conn, f'user:{llogin}', 1)\n",
    "    \n",
    "    if not lock:\n",
    "        return None\n",
    "    \n",
    "    if conn.hget('users:', llogin):\n",
    "        return None\n",
    "\n",
    "    id = conn.incr('user:id:')\n",
    "    pipeline = conn.pipeline(True)\n",
    "    pipeline.hset('user:', llogin, id)\n",
    "    pipeline.hmset(f'user:{id}', {\n",
    "        'login': login,\n",
    "        'id': id,\n",
    "        'name': name,\n",
    "        'followers': 0,\n",
    "        'following': 0,\n",
    "        'posts': 0,\n",
    "        'signup': time.time()\n",
    "    })\n",
    "    pipeline.execute()\n",
    "    release_lock(conn, f'user:{llogin}', lock)\n",
    "    return id"
   ]
  }
 ],
 "metadata": {
  "kernelspec": {
   "display_name": "Python 3",
   "language": "python",
   "name": "python3"
  },
  "language_info": {
   "codemirror_mode": {
    "name": "ipython",
    "version": 3
   },
   "file_extension": ".py",
   "mimetype": "text/x-python",
   "name": "python",
   "nbconvert_exporter": "python",
   "pygments_lexer": "ipython3",
   "version": "3.7.3"
  }
 },
 "nbformat": 4,
 "nbformat_minor": 2
}
