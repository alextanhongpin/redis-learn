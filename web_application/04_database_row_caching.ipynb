{
 "cells": [
  {
   "cell_type": "markdown",
   "metadata": {},
   "source": [
    "## Database row caching\n",
    "\n",
    "To cache database rows in preparation for a heavy load, we will write a daemon function that will run continously.\n",
    "\n",
    "- The daemon will cache specific database rows in Redis, updating them on a variable schedule.\n",
    "- The rows are stored as JSON-encoded dictionaries.\n",
    "\n",
    "Approach using two ZSETs, one as the schedule ZSET and another as the delay ZSET.\n",
    "\n",
    "- Schedule ZSET: Stores the row ID of the database as the key and the timestamp as the score.\n",
    "- Delay ZSET: Stores the row ID of the database as the key and the delay in seconds before the update is performed as the score.\n",
    "\n",
    "To schedule the row to be cached:\n",
    "```\n",
    "ZSET delay: row1 10\n",
    "ZSET schedule: row1 1565578890\n",
    "```"
   ]
  },
  {
   "cell_type": "code",
   "execution_count": 1,
   "metadata": {},
   "outputs": [],
   "source": [
    "def schedule_row_cache(conn, row_id, delay):\n",
    "    conn.zadd('delay:', row_id, delay)\n",
    "    conn.zadd('schedule:', row_id, time.time())"
   ]
  },
  {
   "cell_type": "code",
   "execution_count": 2,
   "metadata": {},
   "outputs": [],
   "source": [
    "def cache_rows(conn):\n",
    "    while not QUIT:\n",
    "        # Find the next row that should be cached (if any), including\n",
    "        # the timestamp, as a list of tuples with zero or one items.\n",
    "        # This will return a list of tuples; [(row_id, score)].\n",
    "        next = conn.zrange('schedule:', 0, 0, withscores=True)\n",
    "        now = time.time()\n",
    "        if not next or next[0][1] > now:\n",
    "            # No rows can be cached, wait 50 ms and try again.\n",
    "            # We could find the difference in time to wait, but that\n",
    "            # would mean missing news rows that are added in between.\n",
    "            time.sleep(0.05)\n",
    "            continue\n",
    "        \n",
    "        row_id = next[0][0]\n",
    "        \n",
    "        # Get the delay before the next schedule.\n",
    "        delay = conn.zscore('delay:', row_id)\n",
    "        \n",
    "        # The item shouldn't be cached anymore, remove it\n",
    "        # from the cache.\n",
    "        if delay <= 0:\n",
    "            conn.zrem('delay:', row_id)\n",
    "            conn.zrem('schedule:', row_id)\n",
    "            conn.delete('inv:' + row_id)\n",
    "            continue\n",
    "            \n",
    "        # Get the database row.\n",
    "        row = Inventory.get(row_id)\n",
    "        \n",
    "        # Update the schedule and set the cache value.\n",
    "        conn.zadd('schedule:', row_id, now + delay)\n",
    "        conn.set('inv:' + row_id, json.dumps(row.to_dict()))"
   ]
  },
  {
   "cell_type": "code",
   "execution_count": null,
   "metadata": {},
   "outputs": [],
   "source": []
  }
 ],
 "metadata": {
  "kernelspec": {
   "display_name": "Python 3",
   "language": "python",
   "name": "python3"
  },
  "language_info": {
   "codemirror_mode": {
    "name": "ipython",
    "version": 3
   },
   "file_extension": ".py",
   "mimetype": "text/x-python",
   "name": "python",
   "nbconvert_exporter": "python",
   "pygments_lexer": "ipython3",
   "version": "3.7.4"
  }
 },
 "nbformat": 4,
 "nbformat_minor": 2
}
