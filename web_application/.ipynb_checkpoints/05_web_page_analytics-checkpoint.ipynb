{
 "cells": [
  {
   "cell_type": "markdown",
   "metadata": {},
   "source": [
    "## Web Page Analytics\n",
    "\n",
    "Caching all the items in redis will consume memory. We want to just cache the commonly viewed items.\n",
    "We can do this by keeping track of the view counts, and just keeping the top 10,000 viewed items by trimming the rest."
   ]
  },
  {
   "cell_type": "code",
   "execution_count": 2,
   "metadata": {},
   "outputs": [],
   "source": [
    "def update_token(conn, token, user, item=None):\n",
    "    timestamp = time.time()\n",
    "    conn.hset('login:', token, user)\n",
    "    conn.zadd('recent:', token, timestamp)\n",
    "    if item:\n",
    "        conn.zadd('viewed:' + token, item, timestamp)\n",
    "        conn.zremrangebyrank('viewed:' + token, 0, -26)\n",
    "        # Keep record of count of the items viewed. \n",
    "        # Note that we are decrementing the value, this is because ZSET are stored in ascending order.\n",
    "        conn.zincrby('viewed:', item, -1)"
   ]
  },
  {
   "cell_type": "code",
   "execution_count": 4,
   "metadata": {},
   "outputs": [],
   "source": [
    "def rescale_viewed(conn):\n",
    "    while not QUIT:\n",
    "        # Remove any items not in the the top 20,000 viewed items.\n",
    "        conn.zremrangebyrank('viewed:', 20_000, -1)\n",
    "        \n",
    "        # Rescale all counts to be 1/2 of what they were before..\n",
    "        conn.zinterstore('viewed:', {'viewed:': 0.5})\n",
    "        \n",
    "        # Do it again in 5 minutes.\n",
    "        time.sleep(300)"
   ]
  },
  {
   "cell_type": "code",
   "execution_count": null,
   "metadata": {},
   "outputs": [],
   "source": []
  }
 ],
 "metadata": {
  "kernelspec": {
   "display_name": "Python 3",
   "language": "python",
   "name": "python3"
  },
  "language_info": {
   "codemirror_mode": {
    "name": "ipython",
    "version": 3
   },
   "file_extension": ".py",
   "mimetype": "text/x-python",
   "name": "python",
   "nbconvert_exporter": "python",
   "pygments_lexer": "ipython3",
   "version": "3.7.4"
  }
 },
 "nbformat": 4,
 "nbformat_minor": 2
}
