{
 "cells": [
  {
   "cell_type": "markdown",
   "metadata": {},
   "source": [
    "## Shopping cart in Redis\n",
    "\n",
    "Why not cookie?\n",
    "\n",
    "- cookies needs to be parsed and validated to ensure it has the proper format and contain items that can actually be purchased\n",
    "- cookies are passed down through every request, which can slow down request when the cookie is large\n",
    "\n",
    "We can use Redis HASHes to store the mapping of the item to the quantity of item for every session."
   ]
  },
  {
   "cell_type": "code",
   "execution_count": 1,
   "metadata": {},
   "outputs": [],
   "source": [
    "def add_to_cart(conn, session, item, count):\n",
    "    if count <= 0:\n",
    "        conn.hrem('cart:' + session, item)\n",
    "    else:\n",
    "        conn.hset('cart:' + session, item, count)"
   ]
  },
  {
   "cell_type": "code",
   "execution_count": null,
   "metadata": {},
   "outputs": [],
   "source": [
    "def clean_full_sessions(conn):\n",
    "    while not QUIT:\n",
    "        size = conn.zcard('recent:')\n",
    "        if size <= LIMIT:\n",
    "            time.sleep(1)\n",
    "            continue\n",
    "        \n",
    "        end_index = min(size - LIMIT, 100)\n",
    "        \n",
    "        sessions = conn.zrange('recent:', 0, end_index - 1)\n",
    "        \n",
    "        session_keys = []\n",
    "        for sess in sessions:\n",
    "            session_keys.append('viewed:' + sess)\n",
    "            session_keys.append('cart:' + sess)\n",
    "        \n",
    "        conn.delete(*session_keys)\n",
    "        conn.hdel('cart:', *sessions)\n",
    "        conn.zrem('recent:', *sessions)"
   ]
  }
 ],
 "metadata": {
  "kernelspec": {
   "display_name": "Python 3",
   "language": "python",
   "name": "python3"
  },
  "language_info": {
   "codemirror_mode": {
    "name": "ipython",
    "version": 3
   },
   "file_extension": ".py",
   "mimetype": "text/x-python",
   "name": "python",
   "nbconvert_exporter": "python",
   "pygments_lexer": "ipython3",
   "version": "3.7.4"
  }
 },
 "nbformat": 4,
 "nbformat_minor": 2
}
