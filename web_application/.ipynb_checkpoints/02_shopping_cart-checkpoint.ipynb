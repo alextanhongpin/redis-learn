{
 "cells": [
  {
   "cell_type": "markdown",
   "metadata": {},
   "source": [
    "## Shopping cart in Redis\n",
    "\n",
    "Why not cookie?\n",
    "\n",
    "- cookies needs to be parsed and validated to ensure it has the proper format and contain items that can actually be purchased\n",
    "- cookies are passed down through every request, which can slow down request when the cookie is large\n",
    "\n",
    "We can use Redis HASHes to store the mapping of the item to the quantity of item for every session.\n",
    "\n",
    "Original link [here](https://redis.com/ebook/part-1-getting-started/chapter-2-anatomy-of-a-redis-web-application/2-2-shopping-carts-in-redis/)."
   ]
  },
  {
   "cell_type": "code",
   "execution_count": 1,
   "metadata": {},
   "outputs": [],
   "source": [
    "import utils"
   ]
  },
  {
   "cell_type": "code",
   "execution_count": 2,
   "metadata": {},
   "outputs": [
    {
     "data": {
      "text/plain": [
       "True"
      ]
     },
     "execution_count": 2,
     "metadata": {},
     "output_type": "execute_result"
    }
   ],
   "source": [
    "conn = utils.connect()\n",
    "conn.ping()"
   ]
  },
  {
   "cell_type": "code",
   "execution_count": 3,
   "metadata": {},
   "outputs": [],
   "source": [
    "def add_to_cart(conn, session, item, count):\n",
    "    if count <= 0:\n",
    "        conn.hrem(\"cart:\" + session, item)\n",
    "    else:\n",
    "        conn.hset(\"cart:\" + session, item, count)"
   ]
  },
  {
   "cell_type": "code",
   "execution_count": 6,
   "metadata": {},
   "outputs": [],
   "source": [
    "# To add 2 books to the cart for the session \"token123\"\n",
    "add_to_cart(conn, \"token123\", \"books\", 2)"
   ]
  },
  {
   "cell_type": "code",
   "execution_count": 9,
   "metadata": {},
   "outputs": [
    {
     "data": {
      "text/plain": [
       "'2'"
      ]
     },
     "execution_count": 9,
     "metadata": {},
     "output_type": "execute_result"
    }
   ],
   "source": [
    "# To retrieve the itesm from the cart.\n",
    "conn.hget(\"cart:token123\", \"books\")"
   ]
  },
  {
   "cell_type": "code",
   "execution_count": 14,
   "metadata": {},
   "outputs": [
    {
     "data": {
      "text/plain": [
       "True"
      ]
     },
     "execution_count": 14,
     "metadata": {},
     "output_type": "execute_result"
    }
   ],
   "source": [
    "# Seems like quitting doesn't really work.\n",
    "conn.quit()"
   ]
  },
  {
   "cell_type": "code",
   "execution_count": null,
   "metadata": {},
   "outputs": [],
   "source": [
    "def clean_full_sessions(conn):\n",
    "    while not QUIT:\n",
    "        size = conn.zcard(\"recent:\")\n",
    "        if size <= LIMIT:\n",
    "            time.sleep(1)\n",
    "            continue\n",
    "\n",
    "        end_index = min(size - LIMIT, 100)\n",
    "\n",
    "        sessions = conn.zrange(\"recent:\", 0, end_index - 1)\n",
    "\n",
    "        session_keys = []\n",
    "        for sess in sessions:\n",
    "            session_keys.append(\"viewed:\" + sess)\n",
    "            session_keys.append(\"cart:\" + sess)\n",
    "\n",
    "        conn.delete(*session_keys)\n",
    "        conn.hdel(\"cart:\", *sessions)\n",
    "        conn.zrem(\"recent:\", *sessions)"
   ]
  }
 ],
 "metadata": {
  "kernelspec": {
   "display_name": "Python 3 (ipykernel)",
   "language": "python",
   "name": "python3"
  },
  "language_info": {
   "codemirror_mode": {
    "name": "ipython",
    "version": 3
   },
   "file_extension": ".py",
   "mimetype": "text/x-python",
   "name": "python",
   "nbconvert_exporter": "python",
   "pygments_lexer": "ipython3",
   "version": "3.9.16"
  }
 },
 "nbformat": 4,
 "nbformat_minor": 4
}
