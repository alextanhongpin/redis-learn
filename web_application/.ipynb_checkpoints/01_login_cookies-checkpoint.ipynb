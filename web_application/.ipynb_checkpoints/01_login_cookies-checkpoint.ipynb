{
 "cells": [
  {
   "cell_type": "markdown",
   "metadata": {},
   "source": [
    "# Anatomy of Redis Web Application\n",
    "\n",
    "- login cookies\n",
    "- shopping cart cookies\n",
    "- caching generated web pages\n",
    "- caching database rows\n",
    "- analysing web page visits"
   ]
  },
  {
   "cell_type": "markdown",
   "metadata": {},
   "source": [
    "## Login Cookies\n",
    "\n",
    "We can use hash to store the mapping of login user token to the user. \n",
    "\n",
    "To set the token:\n",
    "\n",
    "```\n",
    "HSET login: token123 user1\n",
    "ZADD recent: token123 1565576538\n",
    "```\n",
    "\n",
    "To get the token:\n",
    "\n",
    "```\n",
    "HGET login: token123\n",
    "```\n"
   ]
  },
  {
   "cell_type": "code",
   "execution_count": 1,
   "metadata": {},
   "outputs": [],
   "source": [
    "def check_token(conn, token):\n",
    "    return conn.hget('login:', token)"
   ]
  },
  {
   "cell_type": "code",
   "execution_count": 3,
   "metadata": {},
   "outputs": [],
   "source": [
    "def update_token(conn, token, user, item=None):\n",
    "    timestamp = time.time()\n",
    "    \n",
    "    # Keep a mapping from the token to the logged-in user.\n",
    "    conn.hset('login:', token, user)\n",
    "    \n",
    "    # Record when the token was last seen.\n",
    "    con.zadd('recent:', token, timestamp)\n",
    "    \n",
    "    # Record that the user viewed the item.\n",
    "    if item:\n",
    "        conn.zadd('viewed:' + token, item, timestamp)\n",
    "        \n",
    "        # Remove old items, keeping the most recent 25.\n",
    "        conn.zremrangebyrank('viewed:' + token, 0, -26)"
   ]
  },
  {
   "cell_type": "code",
   "execution_count": 4,
   "metadata": {},
   "outputs": [],
   "source": [
    "QUIT = False\n",
    "LIMIT = 1_000_000\n",
    "\n",
    "def clean_session(conn):\n",
    "    while not QUIT:\n",
    "        size = conn.zcard('recent:')\n",
    "        if size <= LIMIT:\n",
    "            time.sleep(1)\n",
    "            continue\n",
    "        \n",
    "        end_index = min(size - LIMIT, 1_000)\n",
    "        tokens = conn.zrange('recent:', 0, end_index-1)\n",
    "        \n",
    "        session_keys = []\n",
    "        for token in tokens:\n",
    "            session_keys.append('viewed:' + token)\n",
    "            \n",
    "        conn.delete(*session_keys)\n",
    "        conn.hdel('login:', *tokens)\n",
    "        conn.zrem('recent:', *tokens)"
   ]
  }
 ],
 "metadata": {
  "kernelspec": {
   "display_name": "Python 3",
   "language": "python",
   "name": "python3"
  },
  "language_info": {
   "codemirror_mode": {
    "name": "ipython",
    "version": 3
   },
   "file_extension": ".py",
   "mimetype": "text/x-python",
   "name": "python",
   "nbconvert_exporter": "python",
   "pygments_lexer": "ipython3",
   "version": "3.7.4"
  }
 },
 "nbformat": 4,
 "nbformat_minor": 2
}
