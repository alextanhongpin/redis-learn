{
 "cells": [
  {
   "cell_type": "markdown",
   "metadata": {},
   "source": [
    "# Anatomy of Redis Web Application\n",
    "\n",
    "- login cookies\n",
    "- shopping cart cookies\n",
    "- caching generated web pages\n",
    "- caching database rows\n",
    "- analysing web page visits\n",
    "\n",
    "Based on the tutorial from [here](https://redis.com/ebook/part-1-getting-started/chapter-2-anatomy-of-a-redis-web-application/)."
   ]
  },
  {
   "cell_type": "markdown",
   "metadata": {},
   "source": [
    "## Login Cookies\n",
    "\n",
    "We can use hash to store the mapping of login user token to the user. \n",
    "\n",
    "To set the token:\n",
    "\n",
    "```\n",
    "HSET login: token123 user1\n",
    "ZADD recent: token123 1565576538\n",
    "```\n",
    "\n",
    "To get the token:\n",
    "\n",
    "```\n",
    "HGET login: token123\n",
    "```\n"
   ]
  },
  {
   "cell_type": "code",
   "execution_count": 1,
   "metadata": {},
   "outputs": [],
   "source": [
    "import time\n",
    "\n",
    "import redis"
   ]
  },
  {
   "cell_type": "code",
   "execution_count": 2,
   "metadata": {},
   "outputs": [],
   "source": [
    "conn = redis.Redis(decode_responses=True)"
   ]
  },
  {
   "cell_type": "code",
   "execution_count": 26,
   "metadata": {},
   "outputs": [
    {
     "data": {
      "text/plain": [
       "True"
      ]
     },
     "execution_count": 26,
     "metadata": {},
     "output_type": "execute_result"
    }
   ],
   "source": [
    "conn.ping()"
   ]
  },
  {
   "cell_type": "code",
   "execution_count": 27,
   "metadata": {},
   "outputs": [],
   "source": [
    "# check_token checks if the token exists.\n",
    "def check_token(conn, token):\n",
    "    return conn.hget(\"login:\", token)"
   ]
  },
  {
   "cell_type": "code",
   "execution_count": 28,
   "metadata": {},
   "outputs": [],
   "source": [
    "def update_token(conn, token, user, item=None):\n",
    "    timestamp = time.time()\n",
    "\n",
    "    # Keep a mapping from the token to the logged-in user.\n",
    "    conn.hset(\"login:\", token, user)\n",
    "\n",
    "    # Record when the token was last seen.\n",
    "    conn.zadd(\"recent:\", {token: timestamp})\n",
    "\n",
    "    # Record that the user viewed the item.\n",
    "    if item:\n",
    "        conn.zadd(\"viewed:\" + token, {item: timestamp})\n",
    "\n",
    "        # Remove old items, keeping the most recent 25.\n",
    "        conn.zremrangebyrank(\"viewed:\" + token, 0, -26)"
   ]
  },
  {
   "cell_type": "code",
   "execution_count": 29,
   "metadata": {},
   "outputs": [],
   "source": [
    "update_token(conn, \"token123\", \"user123\", \"books\")"
   ]
  },
  {
   "cell_type": "code",
   "execution_count": 30,
   "metadata": {},
   "outputs": [
    {
     "data": {
      "text/plain": [
       "'user123'"
      ]
     },
     "execution_count": 30,
     "metadata": {},
     "output_type": "execute_result"
    }
   ],
   "source": [
    "check_token(conn, \"token123\")"
   ]
  },
  {
   "cell_type": "code",
   "execution_count": 31,
   "metadata": {},
   "outputs": [
    {
     "data": {
      "text/plain": [
       "[('token123', 1672990183.4007082)]"
      ]
     },
     "execution_count": 31,
     "metadata": {},
     "output_type": "execute_result"
    }
   ],
   "source": [
    "conn.zrange(\"recent:\", 0, -1, withscores=True)"
   ]
  },
  {
   "cell_type": "code",
   "execution_count": 34,
   "metadata": {},
   "outputs": [
    {
     "data": {
      "text/plain": [
       "[]"
      ]
     },
     "execution_count": 34,
     "metadata": {},
     "output_type": "execute_result"
    }
   ],
   "source": [
    "conn.zrange(\"recent:\", 1, -1, withscores=True, desc=True)"
   ]
  },
  {
   "cell_type": "code",
   "execution_count": 4,
   "metadata": {},
   "outputs": [],
   "source": [
    "QUIT = False\n",
    "LIMIT = 1_000_000\n",
    "\n",
    "\n",
    "def clean_session(conn):\n",
    "    while not QUIT:\n",
    "        size = conn.zcard(\"recent:\")\n",
    "        if size <= LIMIT:\n",
    "            time.sleep(1)\n",
    "            continue\n",
    "\n",
    "        # Here, the keys already exceeded the LIMIT.\n",
    "        # We want to delete the additional keys, but only max 1,000 keys at a time every second.\n",
    "        # The scores are sorted in ascending order.\n",
    "        end_index = min(size - LIMIT, 1_000)\n",
    "        tokens = conn.zrange(\"recent:\", 0, end_index - 1)\n",
    "\n",
    "        session_keys = []\n",
    "        for token in tokens:\n",
    "            session_keys.append(\"viewed:\" + token)\n",
    "\n",
    "        conn.delete(*session_keys)\n",
    "        conn.hdel(\"login:\", *tokens)\n",
    "        conn.zrem(\"recent:\", *tokens)"
   ]
  },
  {
   "cell_type": "code",
   "execution_count": null,
   "metadata": {},
   "outputs": [],
   "source": [
    "# Alternative to the implementation below is to sort the scores in descending.\n",
    "# There can be a lot of tokens to delete, so we limit it to max 1,000 at a time.\n",
    "STORE_LIMIT = 1_000_000\n",
    "DELETE_LIMIT = 1_000\n",
    "\n",
    "tokens = conn.zrange(\"recent:\", STORE_LIMIT, STORE_LIMIT + DELETE_LIMIT, desc=True)\n",
    "conn.delete(*tokens)"
   ]
  }
 ],
 "metadata": {
  "kernelspec": {
   "display_name": "Python 3 (ipykernel)",
   "language": "python",
   "name": "python3"
  },
  "language_info": {
   "codemirror_mode": {
    "name": "ipython",
    "version": 3
   },
   "file_extension": ".py",
   "mimetype": "text/x-python",
   "name": "python",
   "nbconvert_exporter": "python",
   "pygments_lexer": "ipython3",
   "version": "3.9.16"
  }
 },
 "nbformat": 4,
 "nbformat_minor": 4
}
