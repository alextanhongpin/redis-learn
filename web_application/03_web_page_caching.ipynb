{
 "cells": [
  {
   "cell_type": "markdown",
   "metadata": {},
   "source": [
    "## Web Page Caching\n",
    "\n",
    "We can create middlewares that can pre- or post-process requests as they are handled. \n",
    "\n",
    "- This middleware will check if the request can be cached. \n",
    "- If the request can not be cached, we generate the page and return the content. \n",
    "- If the request can be cached, we will try to fetch and return the page from the cache. \n",
    "- Otherwise, we will generate the page, cache the result and return the content."
   ]
  },
  {
   "cell_type": "code",
   "execution_count": 2,
   "metadata": {},
   "outputs": [],
   "source": [
    "def cache_request(conn, request, callback):\n",
    "    # If we cannot cache the request, immediately call the callback.\n",
    "    if not can_cache(conn, request):\n",
    "        return callback(request)\n",
    "    \n",
    "    # Convert the request into simple string key for later lookup.\n",
    "    page_key = 'cache:' + hash_request(request)\n",
    "    content = conn.get(page_key)\n",
    "    \n",
    "    if not content:\n",
    "        # Generate the content if we can't cache the page, or if \n",
    "        # it wasn't cached.\n",
    "        content = callback(request)\n",
    "        \n",
    "        # Store for 5 minutes. \n",
    "        # NOTE: To avoid thundering herd, add some jitter to the expiry time.\n",
    "        conn.setex(page_key, content, 300)\n",
    "    return content"
   ]
  }
 ],
 "metadata": {
  "kernelspec": {
   "display_name": "Python 3",
   "language": "python",
   "name": "python3"
  },
  "language_info": {
   "codemirror_mode": {
    "name": "ipython",
    "version": 3
   },
   "file_extension": ".py",
   "mimetype": "text/x-python",
   "name": "python",
   "nbconvert_exporter": "python",
   "pygments_lexer": "ipython3",
   "version": "3.7.4"
  }
 },
 "nbformat": 4,
 "nbformat_minor": 2
}
