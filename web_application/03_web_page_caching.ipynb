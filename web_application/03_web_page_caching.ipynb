{
 "cells": [
  {
   "cell_type": "markdown",
   "metadata": {},
   "source": [
    "## Web Page Caching\n",
    "\n",
    "We can create middlewares that can pre- or post-process requests as they are handled. \n",
    "\n",
    "- This middleware will check if the request can be cached. \n",
    "- If the request can not be cached, we generate the page and return the content. \n",
    "- If the request can be cached, we will try to fetch and return the page from the cache. \n",
    "- Otherwise, we will generate the page, cache the result and return the content."
   ]
  },
  {
   "cell_type": "code",
   "execution_count": 1,
   "metadata": {},
   "outputs": [],
   "source": [
    "def cache_request(conn, request, callback):\n",
    "    # If we cannot cache the request, immediately call the callback.\n",
    "    if not can_cache(conn, request):\n",
    "        return callback(request)\n",
    "\n",
    "    # Convert the request into simple string key for later lookup.\n",
    "    page_key = \"cache:\" + hash_request(request)\n",
    "    content = conn.get(page_key)\n",
    "\n",
    "    if not content:\n",
    "        # Generate the content if we can't cache the page, or if\n",
    "        # it wasn't cached.\n",
    "        content = callback(request)\n",
    "\n",
    "        # Store for 5 minutes.\n",
    "        # NOTE: To avoid thundering herd, add some jitter to the expiry time.\n",
    "        conn.setex(page_key, content, 300)\n",
    "    return content"
   ]
  },
  {
   "cell_type": "code",
   "execution_count": 2,
   "metadata": {},
   "outputs": [
    {
     "data": {
      "text/plain": [
       "True"
      ]
     },
     "execution_count": 2,
     "metadata": {},
     "output_type": "execute_result"
    }
   ],
   "source": [
    "import utils\n",
    "\n",
    "conn = utils.connect()\n",
    "conn.ping()"
   ]
  },
  {
   "cell_type": "code",
   "execution_count": 7,
   "metadata": {},
   "outputs": [
    {
     "data": {
      "text/plain": [
       "(datetime.timedelta(seconds=1), datetime.timedelta(microseconds=1000))"
      ]
     },
     "execution_count": 7,
     "metadata": {},
     "output_type": "execute_result"
    }
   ],
   "source": [
    "from datetime import timedelta\n",
    "timedelta(seconds=1), timedelta(milliseconds=1)"
   ]
  },
  {
   "cell_type": "code",
   "execution_count": 11,
   "metadata": {},
   "outputs": [
    {
     "data": {
      "text/plain": [
       "'hello world'"
      ]
     },
     "execution_count": 11,
     "metadata": {},
     "output_type": "execute_result"
    }
   ],
   "source": [
    "conn.setex(\"page1\", timedelta(seconds=1), \"hello world\")\n",
    "conn.get(\"page1\")"
   ]
  },
  {
   "cell_type": "code",
   "execution_count": 13,
   "metadata": {},
   "outputs": [],
   "source": [
    "conn.get(\"page1\")"
   ]
  },
  {
   "cell_type": "code",
   "execution_count": null,
   "metadata": {},
   "outputs": [],
   "source": []
  }
 ],
 "metadata": {
  "kernelspec": {
   "display_name": "Python 3 (ipykernel)",
   "language": "python",
   "name": "python3"
  },
  "language_info": {
   "codemirror_mode": {
    "name": "ipython",
    "version": 3
   },
   "file_extension": ".py",
   "mimetype": "text/x-python",
   "name": "python",
   "nbconvert_exporter": "python",
   "pygments_lexer": "ipython3",
   "version": "3.9.16"
  }
 },
 "nbformat": 4,
 "nbformat_minor": 4
}
