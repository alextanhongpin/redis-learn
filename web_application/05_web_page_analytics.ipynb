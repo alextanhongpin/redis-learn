{
 "cells": [
  {
   "cell_type": "markdown",
   "metadata": {},
   "source": [
    "## Web Page Analytics\n",
    "\n",
    "Caching all the items in redis will consume memory. We want to just cache the commonly viewed items.\n",
    "We can do this by keeping track of the view counts, and just keeping the top 10,000 viewed items by trimming the rest."
   ]
  },
  {
   "cell_type": "code",
   "execution_count": 31,
   "metadata": {},
   "outputs": [],
   "source": [
    "import time\n",
    "\n",
    "\n",
    "def update_token(conn, token, user, item=None):\n",
    "    timestamp = time.time()\n",
    "    conn.hset(\"login:\", token, user)\n",
    "    conn.zadd(\"recent:\", {token: timestamp})\n",
    "    if item:\n",
    "        conn.zadd(\"viewed:\" + token, {item: timestamp})\n",
    "        conn.zremrangebyrank(\"viewed:\" + token, 0, -26)\n",
    "        # Keep record of count of the items viewed.\n",
    "        # Note that we are decrementing the value, this is because ZSET are stored in ascending order.\n",
    "        conn.zincrby(\"viewed:\", -1, item)"
   ]
  },
  {
   "cell_type": "code",
   "execution_count": 19,
   "metadata": {},
   "outputs": [],
   "source": [
    "def rescale_viewed(conn):\n",
    "    # Remove any items not in the the top 20,000 viewed items.\n",
    "    conn.zremrangebyrank(\"viewed:\", 20_000, -1)\n",
    "\n",
    "    # Rescale all counts to be 1/2 of what they were before..\n",
    "    conn.zinterstore(\"viewed:\", {\"viewed:\": 0.5})\n",
    "\n",
    "\n",
    "def rescale_viewed_job(conn):\n",
    "    while not QUIT:\n",
    "        rescale_viewed(conn)\n",
    "\n",
    "        # Do it again in 5 minutes.\n",
    "        time.sleep(300)"
   ]
  },
  {
   "cell_type": "code",
   "execution_count": 20,
   "metadata": {},
   "outputs": [],
   "source": [
    "def can_cache(conn, request):\n",
    "    item_id = extract_item_id(request)\n",
    "\n",
    "    # Check whether the page can be statically cached and whether\n",
    "    # this is an item page.\n",
    "    if not item_id or is_dynamic(request):\n",
    "        return False\n",
    "\n",
    "    # Get the rank of the item.\n",
    "    rank = conn.zrank(\"viewed:\", item_id)\n",
    "\n",
    "    # Return whether the item has high enough view count to be cached.\n",
    "    return rank is not None and rank < 10_000"
   ]
  },
  {
   "cell_type": "code",
   "execution_count": 21,
   "metadata": {},
   "outputs": [
    {
     "data": {
      "text/plain": [
       "True"
      ]
     },
     "execution_count": 21,
     "metadata": {},
     "output_type": "execute_result"
    }
   ],
   "source": [
    "import utils\n",
    "\n",
    "conn = utils.connect()\n",
    "conn.ping()"
   ]
  },
  {
   "cell_type": "code",
   "execution_count": 22,
   "metadata": {},
   "outputs": [
    {
     "data": {
      "text/plain": [
       "0"
      ]
     },
     "execution_count": 22,
     "metadata": {},
     "output_type": "execute_result"
    }
   ],
   "source": [
    "conn.zadd(\"hello\", {\"john\": 1, \"alice\": 2})"
   ]
  },
  {
   "cell_type": "code",
   "execution_count": 23,
   "metadata": {},
   "outputs": [
    {
     "data": {
      "text/plain": [
       "[('john', 1.0), ('alice', 2.0)]"
      ]
     },
     "execution_count": 23,
     "metadata": {},
     "output_type": "execute_result"
    }
   ],
   "source": [
    "conn.zrange(\"hello\", 0, -1, withscores=True)"
   ]
  },
  {
   "cell_type": "code",
   "execution_count": 24,
   "metadata": {},
   "outputs": [
    {
     "data": {
      "text/plain": [
       "2"
      ]
     },
     "execution_count": 24,
     "metadata": {},
     "output_type": "execute_result"
    }
   ],
   "source": [
    "conn.zinterstore(\n",
    "    \"hello\", {\"hello\": 0.5}\n",
    ")  # this operation halves the score of the zset \"hello\""
   ]
  },
  {
   "cell_type": "code",
   "execution_count": 25,
   "metadata": {},
   "outputs": [
    {
     "data": {
      "text/plain": [
       "[('john', 0.5), ('alice', 1.0)]"
      ]
     },
     "execution_count": 25,
     "metadata": {},
     "output_type": "execute_result"
    }
   ],
   "source": [
    "conn.zrange(\"hello\", 0, -1, withscores=True)"
   ]
  },
  {
   "cell_type": "code",
   "execution_count": 54,
   "metadata": {},
   "outputs": [],
   "source": [
    "for i in range(10):\n",
    "    update_token(conn, \"token123\", \"user123\", \"item123\")"
   ]
  },
  {
   "cell_type": "code",
   "execution_count": 56,
   "metadata": {},
   "outputs": [
    {
     "data": {
      "text/plain": [
       "[('item123', -15.1875)]"
      ]
     },
     "execution_count": 56,
     "metadata": {},
     "output_type": "execute_result"
    }
   ],
   "source": [
    "conn.zrange(\"viewed:\", 0, -1, withscores=True)"
   ]
  },
  {
   "cell_type": "code",
   "execution_count": 57,
   "metadata": {},
   "outputs": [],
   "source": [
    "rescale_viewed(conn)"
   ]
  },
  {
   "cell_type": "code",
   "execution_count": 58,
   "metadata": {},
   "outputs": [
    {
     "data": {
      "text/plain": [
       "[('item123', -7.59375)]"
      ]
     },
     "execution_count": 58,
     "metadata": {},
     "output_type": "execute_result"
    }
   ],
   "source": [
    "conn.zrange(\"viewed:\", 0, -1, withscores=True)"
   ]
  },
  {
   "cell_type": "code",
   "execution_count": null,
   "metadata": {},
   "outputs": [],
   "source": []
  }
 ],
 "metadata": {
  "kernelspec": {
   "display_name": "Python 3 (ipykernel)",
   "language": "python",
   "name": "python3"
  },
  "language_info": {
   "codemirror_mode": {
    "name": "ipython",
    "version": 3
   },
   "file_extension": ".py",
   "mimetype": "text/x-python",
   "name": "python",
   "nbconvert_exporter": "python",
   "pygments_lexer": "ipython3",
   "version": "3.9.16"
  }
 },
 "nbformat": 4,
 "nbformat_minor": 4
}
