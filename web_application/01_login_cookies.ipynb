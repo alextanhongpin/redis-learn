{
 "cells": [
  {
   "cell_type": "markdown",
   "metadata": {},
   "source": [
    "# Anatomy of Redis Web Application\n",
    "\n",
    "- login cookies\n",
    "- shopping cart cookies\n",
    "- caching generated web pages\n",
    "- caching database rows\n",
    "- analysing web page visits\n",
    "\n",
    "Based on the tutorial from [here](https://redis.com/ebook/part-1-getting-started/chapter-2-anatomy-of-a-redis-web-application/)."
   ]
  },
  {
   "cell_type": "markdown",
   "metadata": {},
   "source": [
    "## Login Cookies\n",
    "\n",
    "We can use hash to store the mapping of login user token to the user. \n",
    "\n",
    "To set the token:\n",
    "\n",
    "```\n",
    "HSET login: token123 user1\n",
    "ZADD recent: token123 1565576538\n",
    "```\n",
    "\n",
    "To get the token:\n",
    "\n",
    "```\n",
    "HGET login: token123\n",
    "```\n"
   ]
  },
  {
   "cell_type": "code",
   "execution_count": 12,
   "metadata": {},
   "outputs": [],
   "source": [
    "import time\n",
    "\n",
    "import redis"
   ]
  },
  {
   "cell_type": "code",
   "execution_count": 6,
   "metadata": {},
   "outputs": [],
   "source": [
    "conn = redis.Redis(decode_responses=True)"
   ]
  },
  {
   "cell_type": "code",
   "execution_count": 7,
   "metadata": {},
   "outputs": [
    {
     "data": {
      "text/plain": [
       "True"
      ]
     },
     "execution_count": 7,
     "metadata": {},
     "output_type": "execute_result"
    }
   ],
   "source": [
    "conn.ping()"
   ]
  },
  {
   "cell_type": "code",
   "execution_count": 8,
   "metadata": {},
   "outputs": [],
   "source": [
    "# check_token checks if the token exists.\n",
    "def check_token(conn, token):\n",
    "    return conn.hget(\"login:\", token)"
   ]
  },
  {
   "cell_type": "code",
   "execution_count": 37,
   "metadata": {},
   "outputs": [],
   "source": [
    "def update_token(conn, token, user, item=None):\n",
    "    timestamp = time.time()\n",
    "\n",
    "    # Keep a mapping from the token to the logged-in user.\n",
    "    conn.hset(\"login:\", token, user)\n",
    "\n",
    "    # Record when the token was last seen.\n",
    "    conn.zadd(\"recent:\", {token: timestamp})\n",
    "\n",
    "    # Record that the user viewed the item.\n",
    "    if item:\n",
    "        conn.zadd(\"viewed:\" + token, {item: timestamp})\n",
    "\n",
    "        # Remove old items, keeping the most recent 25.\n",
    "        conn.zremrangebyrank(\"viewed:\" + token, 0, -26)"
   ]
  },
  {
   "cell_type": "code",
   "execution_count": 38,
   "metadata": {},
   "outputs": [],
   "source": [
    "update_token(conn, \"token123\", \"user123\", \"books\")"
   ]
  },
  {
   "cell_type": "code",
   "execution_count": 39,
   "metadata": {},
   "outputs": [
    {
     "data": {
      "text/plain": [
       "'user123'"
      ]
     },
     "execution_count": 39,
     "metadata": {},
     "output_type": "execute_result"
    }
   ],
   "source": [
    "check_token(conn, \"token123\")"
   ]
  },
  {
   "cell_type": "code",
   "execution_count": 41,
   "metadata": {},
   "outputs": [
    {
     "data": {
      "text/plain": [
       "[('token456', 1672828987.692061), ('token123', 1672829019.345357)]"
      ]
     },
     "execution_count": 41,
     "metadata": {},
     "output_type": "execute_result"
    }
   ],
   "source": [
    "conn.zrange(\"recent:\", 0, -1, withscores=True)"
   ]
  },
  {
   "cell_type": "code",
   "execution_count": 45,
   "metadata": {},
   "outputs": [
    {
     "data": {
      "text/plain": [
       "[('token456', 1672828987.692061)]"
      ]
     },
     "execution_count": 45,
     "metadata": {},
     "output_type": "execute_result"
    }
   ],
   "source": [
    "conn.zrange(\"recent:\", 1, -1, withscores=True, desc=True)"
   ]
  },
  {
   "cell_type": "code",
   "execution_count": 4,
   "metadata": {},
   "outputs": [],
   "source": [
    "QUIT = False\n",
    "LIMIT = 1_000_000\n",
    "\n",
    "# https://redis-py.readthedocs.io/en/stable/_modules/redis/commands/core.html?highlight=zrange#\n",
    "\n",
    "\n",
    "def clean_session(conn):\n",
    "    while not QUIT:\n",
    "        size = conn.zcard(\"recent:\")\n",
    "        if size <= LIMIT:\n",
    "            time.sleep(1)\n",
    "            continue\n",
    "\n",
    "        end_index = min(size - LIMIT, 1_000)\n",
    "        tokens = conn.zrange(\"recent:\", 0, end_index - 1)\n",
    "\n",
    "        session_keys = []\n",
    "        for token in tokens:\n",
    "            session_keys.append(\"viewed:\" + token)\n",
    "\n",
    "        conn.delete(*session_keys)\n",
    "        conn.hdel(\"login:\", *tokens)\n",
    "        conn.zrem(\"recent:\", *tokens)"
   ]
  }
 ],
 "metadata": {
  "kernelspec": {
   "display_name": "Python 3 (ipykernel)",
   "language": "python",
   "name": "python3"
  },
  "language_info": {
   "codemirror_mode": {
    "name": "ipython",
    "version": 3
   },
   "file_extension": ".py",
   "mimetype": "text/x-python",
   "name": "python",
   "nbconvert_exporter": "python",
   "pygments_lexer": "ipython3",
   "version": "3.9.16"
  }
 },
 "nbformat": 4,
 "nbformat_minor": 4
}
